{
 "cells": [
  {
   "cell_type": "markdown",
   "metadata": {},
   "source": [
    "# 任务3 会员用户画像"
   ]
  },
  {
   "cell_type": "code",
   "execution_count": 63,
   "metadata": {},
   "outputs": [],
   "source": [
    "import numpy as np\n",
    "import pandas as pd\n",
    "import matplotlib.pyplot as plt"
   ]
  },
  {
   "cell_type": "code",
   "execution_count": 2,
   "metadata": {},
   "outputs": [
    {
     "name": "stderr",
     "output_type": "stream",
     "text": [
      "/home/linux/anaconda3/lib/python3.6/site-packages/IPython/core/interactiveshell.py:2728: DtypeWarning: Columns (0,1,3,14) have mixed types. Specify dtype option on import or set low_memory=False.\n",
      "  interactivity=interactivity, compiler=compiler, result=result)\n"
     ]
    }
   ],
   "source": [
    "# 读取预处理后的会员信息表与销售流水表的合并表\n",
    "whole = pd.read_csv('temp/task1.csv')"
   ]
  },
  {
   "cell_type": "code",
   "execution_count": 3,
   "metadata": {},
   "outputs": [
    {
     "data": {
      "text/plain": [
       "1971598"
      ]
     },
     "execution_count": 3,
     "metadata": {},
     "output_type": "execute_result"
    }
   ],
   "source": [
    "len(whole)"
   ]
  },
  {
   "cell_type": "code",
   "execution_count": 4,
   "metadata": {},
   "outputs": [
    {
     "data": {
      "text/html": [
       "<div>\n",
       "<style scoped>\n",
       "    .dataframe tbody tr th:only-of-type {\n",
       "        vertical-align: middle;\n",
       "    }\n",
       "\n",
       "    .dataframe tbody tr th {\n",
       "        vertical-align: top;\n",
       "    }\n",
       "\n",
       "    .dataframe thead th {\n",
       "        text-align: right;\n",
       "    }\n",
       "</style>\n",
       "<table border=\"1\" class=\"dataframe\">\n",
       "  <thead>\n",
       "    <tr style=\"text-align: right;\">\n",
       "      <th></th>\n",
       "      <th>kh</th>\n",
       "      <th>csrq</th>\n",
       "      <th>xb</th>\n",
       "      <th>djsj</th>\n",
       "      <th>dtime</th>\n",
       "      <th>spbm</th>\n",
       "      <th>sl</th>\n",
       "      <th>sj</th>\n",
       "      <th>je</th>\n",
       "      <th>spmc</th>\n",
       "      <th>jf</th>\n",
       "      <th>syjh</th>\n",
       "      <th>djh</th>\n",
       "      <th>gzbm</th>\n",
       "      <th>gzmc</th>\n",
       "    </tr>\n",
       "  </thead>\n",
       "  <tbody>\n",
       "    <tr>\n",
       "      <th>0</th>\n",
       "      <td>c68b20b4</td>\n",
       "      <td>2002-11-02</td>\n",
       "      <td>0.0</td>\n",
       "      <td>2013-05-11 00:00:00.000</td>\n",
       "      <td>NaN</td>\n",
       "      <td>NaN</td>\n",
       "      <td>NaN</td>\n",
       "      <td>NaN</td>\n",
       "      <td>NaN</td>\n",
       "      <td>NaN</td>\n",
       "      <td>NaN</td>\n",
       "      <td>NaN</td>\n",
       "      <td>NaN</td>\n",
       "      <td>NaN</td>\n",
       "      <td>NaN</td>\n",
       "    </tr>\n",
       "    <tr>\n",
       "      <th>1</th>\n",
       "      <td>a37cc182</td>\n",
       "      <td>1967-02-17</td>\n",
       "      <td>0.0</td>\n",
       "      <td>2004-12-31 21:24:34.216</td>\n",
       "      <td>2016-09-25 10:49:14.016</td>\n",
       "      <td>d62a69e3</td>\n",
       "      <td>1.0</td>\n",
       "      <td>499.0</td>\n",
       "      <td>297.07</td>\n",
       "      <td>WMF D无</td>\n",
       "      <td>297.08</td>\n",
       "      <td>101.0</td>\n",
       "      <td>7cd8</td>\n",
       "      <td>7296.0</td>\n",
       "      <td>WMF 柜</td>\n",
       "    </tr>\n",
       "    <tr>\n",
       "      <th>2</th>\n",
       "      <td>a37cc182</td>\n",
       "      <td>1967-02-17</td>\n",
       "      <td>0.0</td>\n",
       "      <td>2004-12-31 21:24:34.216</td>\n",
       "      <td>2016-09-25 10:49:14.016</td>\n",
       "      <td>d62a69e3</td>\n",
       "      <td>1.0</td>\n",
       "      <td>12288.0</td>\n",
       "      <td>11089.93</td>\n",
       "      <td>WMF D无</td>\n",
       "      <td>11089.92</td>\n",
       "      <td>101.0</td>\n",
       "      <td>7cd8</td>\n",
       "      <td>7296.0</td>\n",
       "      <td>WMF 柜</td>\n",
       "    </tr>\n",
       "    <tr>\n",
       "      <th>3</th>\n",
       "      <td>a37cc182</td>\n",
       "      <td>1967-02-17</td>\n",
       "      <td>0.0</td>\n",
       "      <td>2004-12-31 21:24:34.216</td>\n",
       "      <td>2017-02-28 17:17:35.533</td>\n",
       "      <td>252403ef</td>\n",
       "      <td>1.0</td>\n",
       "      <td>598.0</td>\n",
       "      <td>598.00</td>\n",
       "      <td>双立人商品 F无</td>\n",
       "      <td>598.00</td>\n",
       "      <td>102.0</td>\n",
       "      <td>ed0a</td>\n",
       "      <td>7242.0</td>\n",
       "      <td>双立人柜</td>\n",
       "    </tr>\n",
       "    <tr>\n",
       "      <th>4</th>\n",
       "      <td>2ab88539</td>\n",
       "      <td>1982-06-01</td>\n",
       "      <td>0.0</td>\n",
       "      <td>2010-11-19 00:00:00.000</td>\n",
       "      <td>NaN</td>\n",
       "      <td>NaN</td>\n",
       "      <td>NaN</td>\n",
       "      <td>NaN</td>\n",
       "      <td>NaN</td>\n",
       "      <td>NaN</td>\n",
       "      <td>NaN</td>\n",
       "      <td>NaN</td>\n",
       "      <td>NaN</td>\n",
       "      <td>NaN</td>\n",
       "      <td>NaN</td>\n",
       "    </tr>\n",
       "  </tbody>\n",
       "</table>\n",
       "</div>"
      ],
      "text/plain": [
       "         kh        csrq   xb                     djsj  \\\n",
       "0  c68b20b4  2002-11-02  0.0  2013-05-11 00:00:00.000   \n",
       "1  a37cc182  1967-02-17  0.0  2004-12-31 21:24:34.216   \n",
       "2  a37cc182  1967-02-17  0.0  2004-12-31 21:24:34.216   \n",
       "3  a37cc182  1967-02-17  0.0  2004-12-31 21:24:34.216   \n",
       "4  2ab88539  1982-06-01  0.0  2010-11-19 00:00:00.000   \n",
       "\n",
       "                     dtime      spbm   sl       sj        je      spmc  \\\n",
       "0                      NaN       NaN  NaN      NaN       NaN       NaN   \n",
       "1  2016-09-25 10:49:14.016  d62a69e3  1.0    499.0    297.07    WMF D无   \n",
       "2  2016-09-25 10:49:14.016  d62a69e3  1.0  12288.0  11089.93    WMF D无   \n",
       "3  2017-02-28 17:17:35.533  252403ef  1.0    598.0    598.00  双立人商品 F无   \n",
       "4                      NaN       NaN  NaN      NaN       NaN       NaN   \n",
       "\n",
       "         jf   syjh   djh    gzbm   gzmc  \n",
       "0       NaN    NaN   NaN     NaN    NaN  \n",
       "1    297.08  101.0  7cd8  7296.0  WMF 柜  \n",
       "2  11089.92  101.0  7cd8  7296.0  WMF 柜  \n",
       "3    598.00  102.0  ed0a  7242.0   双立人柜  \n",
       "4       NaN    NaN   NaN     NaN    NaN  "
      ]
     },
     "execution_count": 4,
     "metadata": {},
     "output_type": "execute_result"
    }
   ],
   "source": [
    "whole.head()"
   ]
  },
  {
   "cell_type": "code",
   "execution_count": 5,
   "metadata": {},
   "outputs": [
    {
     "data": {
      "text/plain": [
       "kh        997636\n",
       "csrq     1455712\n",
       "xb       1455712\n",
       "djsj     1455712\n",
       "dtime     104950\n",
       "spbm      104950\n",
       "sl        104950\n",
       "sj        104950\n",
       "je        104950\n",
       "spmc      104950\n",
       "jf       1102586\n",
       "syjh      104950\n",
       "djh       104950\n",
       "gzbm     1102586\n",
       "gzmc     1121901\n",
       "dtype: int64"
      ]
     },
     "execution_count": 5,
     "metadata": {},
     "output_type": "execute_result"
    }
   ],
   "source": [
    "whole.isnull().sum()"
   ]
  },
  {
   "cell_type": "code",
   "execution_count": 6,
   "metadata": {},
   "outputs": [],
   "source": [
    "# 去除非会员订单，以及无购买记录的会员记录\n",
    "whole2 = whole.dropna(axis = 0,subset = ['kh','djsj','dtime'])"
   ]
  },
  {
   "cell_type": "code",
   "execution_count": 7,
   "metadata": {},
   "outputs": [
    {
     "data": {
      "text/plain": [
       "kh          0\n",
       "csrq        0\n",
       "xb          0\n",
       "djsj        0\n",
       "dtime       0\n",
       "spbm        0\n",
       "sl          0\n",
       "sj          0\n",
       "je          0\n",
       "spmc        0\n",
       "jf          0\n",
       "syjh        0\n",
       "djh         0\n",
       "gzbm        0\n",
       "gzmc     6827\n",
       "dtype: int64"
      ]
     },
     "execution_count": 7,
     "metadata": {},
     "output_type": "execute_result"
    }
   ],
   "source": [
    "whole2.isnull().sum()"
   ]
  },
  {
   "cell_type": "code",
   "execution_count": 8,
   "metadata": {},
   "outputs": [
    {
     "data": {
      "text/plain": [
       "410936"
      ]
     },
     "execution_count": 8,
     "metadata": {},
     "output_type": "execute_result"
    }
   ],
   "source": [
    "len(whole2)"
   ]
  },
  {
   "cell_type": "code",
   "execution_count": 9,
   "metadata": {},
   "outputs": [],
   "source": [
    "khs = list(set(whole2['kh']))"
   ]
  },
  {
   "cell_type": "code",
   "execution_count": 10,
   "metadata": {},
   "outputs": [
    {
     "data": {
      "text/plain": [
       "31361"
      ]
     },
     "execution_count": 10,
     "metadata": {},
     "output_type": "execute_result"
    }
   ],
   "source": [
    "len(khs)"
   ]
  },
  {
   "cell_type": "code",
   "execution_count": 11,
   "metadata": {},
   "outputs": [
    {
     "name": "stderr",
     "output_type": "stream",
     "text": [
      "/home/linux/anaconda3/lib/python3.6/site-packages/ipykernel_launcher.py:2: SettingWithCopyWarning: \n",
      "A value is trying to be set on a copy of a slice from a DataFrame.\n",
      "Try using .loc[row_indexer,col_indexer] = value instead\n",
      "\n",
      "See the caveats in the documentation: http://pandas.pydata.org/pandas-docs/stable/user_guide/indexing.html#returning-a-view-versus-a-copy\n",
      "  \n",
      "/home/linux/anaconda3/lib/python3.6/site-packages/ipykernel_launcher.py:3: SettingWithCopyWarning: \n",
      "A value is trying to be set on a copy of a slice from a DataFrame.\n",
      "Try using .loc[row_indexer,col_indexer] = value instead\n",
      "\n",
      "See the caveats in the documentation: http://pandas.pydata.org/pandas-docs/stable/user_guide/indexing.html#returning-a-view-versus-a-copy\n",
      "  This is separate from the ipykernel package so we can avoid doing imports until\n",
      "/home/linux/anaconda3/lib/python3.6/site-packages/ipykernel_launcher.py:4: SettingWithCopyWarning: \n",
      "A value is trying to be set on a copy of a slice from a DataFrame.\n",
      "Try using .loc[row_indexer,col_indexer] = value instead\n",
      "\n",
      "See the caveats in the documentation: http://pandas.pydata.org/pandas-docs/stable/user_guide/indexing.html#returning-a-view-versus-a-copy\n",
      "  after removing the cwd from sys.path.\n"
     ]
    }
   ],
   "source": [
    "# 将日期转换为datetime格式\n",
    "whole2['dtime'] = pd.to_datetime(whole2['dtime'])\n",
    "whole2['csrq'] = pd.to_datetime(whole2['csrq'])\n",
    "whole2['djsj'] = pd.to_datetime(whole2['djsj'])"
   ]
  },
  {
   "cell_type": "code",
   "execution_count": 12,
   "metadata": {},
   "outputs": [],
   "source": [
    "def get_gwjj(x):\n",
    "    if x.month in [3,4,5]:\n",
    "        return '春季'\n",
    "    elif x.month in [6,7,8]:\n",
    "        return '夏季'\n",
    "    elif x.month in [9,10,11]:\n",
    "        return '秋季'\n",
    "    else:\n",
    "        return '冬季'\n",
    "\n",
    "def get_rhsc(x):\n",
    "    return (pd.to_datetime('2018-1-5') - x).days"
   ]
  },
  {
   "cell_type": "code",
   "execution_count": 13,
   "metadata": {},
   "outputs": [
    {
     "name": "stderr",
     "output_type": "stream",
     "text": [
      "/home/linux/anaconda3/lib/python3.6/site-packages/ipykernel_launcher.py:2: SettingWithCopyWarning: \n",
      "A value is trying to be set on a copy of a slice from a DataFrame.\n",
      "Try using .loc[row_indexer,col_indexer] = value instead\n",
      "\n",
      "See the caveats in the documentation: http://pandas.pydata.org/pandas-docs/stable/user_guide/indexing.html#returning-a-view-versus-a-copy\n",
      "  \n",
      "/home/linux/anaconda3/lib/python3.6/site-packages/ipykernel_launcher.py:4: SettingWithCopyWarning: \n",
      "A value is trying to be set on a copy of a slice from a DataFrame.\n",
      "Try using .loc[row_indexer,col_indexer] = value instead\n",
      "\n",
      "See the caveats in the documentation: http://pandas.pydata.org/pandas-docs/stable/user_guide/indexing.html#returning-a-view-versus-a-copy\n",
      "  after removing the cwd from sys.path.\n",
      "/home/linux/anaconda3/lib/python3.6/site-packages/ipykernel_launcher.py:6: SettingWithCopyWarning: \n",
      "A value is trying to be set on a copy of a slice from a DataFrame.\n",
      "Try using .loc[row_indexer,col_indexer] = value instead\n",
      "\n",
      "See the caveats in the documentation: http://pandas.pydata.org/pandas-docs/stable/user_guide/indexing.html#returning-a-view-versus-a-copy\n",
      "  \n"
     ]
    }
   ],
   "source": [
    "# 计算会员年龄\n",
    "whole2['nl'] = whole2['csrq'].apply(lambda x:2018 - x.year)\n",
    "# 计算购物季节\n",
    "whole2['jj'] = whole2['dtime'].apply(lambda x:get_gwjj(x))\n",
    "# 计算入会时长\n",
    "whole2['rhsc'] = whole2['djsj'].apply(lambda x:get_rhsc(x))"
   ]
  },
  {
   "cell_type": "code",
   "execution_count": 14,
   "metadata": {},
   "outputs": [
    {
     "data": {
      "text/html": [
       "<div>\n",
       "<style scoped>\n",
       "    .dataframe tbody tr th:only-of-type {\n",
       "        vertical-align: middle;\n",
       "    }\n",
       "\n",
       "    .dataframe tbody tr th {\n",
       "        vertical-align: top;\n",
       "    }\n",
       "\n",
       "    .dataframe thead th {\n",
       "        text-align: right;\n",
       "    }\n",
       "</style>\n",
       "<table border=\"1\" class=\"dataframe\">\n",
       "  <thead>\n",
       "    <tr style=\"text-align: right;\">\n",
       "      <th></th>\n",
       "      <th>kh</th>\n",
       "      <th>csrq</th>\n",
       "      <th>xb</th>\n",
       "      <th>djsj</th>\n",
       "      <th>dtime</th>\n",
       "      <th>spbm</th>\n",
       "      <th>sl</th>\n",
       "      <th>sj</th>\n",
       "      <th>je</th>\n",
       "      <th>spmc</th>\n",
       "      <th>jf</th>\n",
       "      <th>syjh</th>\n",
       "      <th>djh</th>\n",
       "      <th>gzbm</th>\n",
       "      <th>gzmc</th>\n",
       "      <th>nl</th>\n",
       "      <th>jj</th>\n",
       "      <th>rhsc</th>\n",
       "    </tr>\n",
       "  </thead>\n",
       "  <tbody>\n",
       "    <tr>\n",
       "      <th>1</th>\n",
       "      <td>a37cc182</td>\n",
       "      <td>1967-02-17</td>\n",
       "      <td>0.0</td>\n",
       "      <td>2004-12-31 21:24:34.216</td>\n",
       "      <td>2016-09-25 10:49:14.016</td>\n",
       "      <td>d62a69e3</td>\n",
       "      <td>1.0</td>\n",
       "      <td>499.0</td>\n",
       "      <td>297.07</td>\n",
       "      <td>WMF D无</td>\n",
       "      <td>297.08</td>\n",
       "      <td>101.0</td>\n",
       "      <td>7cd8</td>\n",
       "      <td>7296.0</td>\n",
       "      <td>WMF 柜</td>\n",
       "      <td>51</td>\n",
       "      <td>秋季</td>\n",
       "      <td>4752</td>\n",
       "    </tr>\n",
       "    <tr>\n",
       "      <th>2</th>\n",
       "      <td>a37cc182</td>\n",
       "      <td>1967-02-17</td>\n",
       "      <td>0.0</td>\n",
       "      <td>2004-12-31 21:24:34.216</td>\n",
       "      <td>2016-09-25 10:49:14.016</td>\n",
       "      <td>d62a69e3</td>\n",
       "      <td>1.0</td>\n",
       "      <td>12288.0</td>\n",
       "      <td>11089.93</td>\n",
       "      <td>WMF D无</td>\n",
       "      <td>11089.92</td>\n",
       "      <td>101.0</td>\n",
       "      <td>7cd8</td>\n",
       "      <td>7296.0</td>\n",
       "      <td>WMF 柜</td>\n",
       "      <td>51</td>\n",
       "      <td>秋季</td>\n",
       "      <td>4752</td>\n",
       "    </tr>\n",
       "    <tr>\n",
       "      <th>3</th>\n",
       "      <td>a37cc182</td>\n",
       "      <td>1967-02-17</td>\n",
       "      <td>0.0</td>\n",
       "      <td>2004-12-31 21:24:34.216</td>\n",
       "      <td>2017-02-28 17:17:35.533</td>\n",
       "      <td>252403ef</td>\n",
       "      <td>1.0</td>\n",
       "      <td>598.0</td>\n",
       "      <td>598.00</td>\n",
       "      <td>双立人商品 F无</td>\n",
       "      <td>598.00</td>\n",
       "      <td>102.0</td>\n",
       "      <td>ed0a</td>\n",
       "      <td>7242.0</td>\n",
       "      <td>双立人柜</td>\n",
       "      <td>51</td>\n",
       "      <td>冬季</td>\n",
       "      <td>4752</td>\n",
       "    </tr>\n",
       "    <tr>\n",
       "      <th>7</th>\n",
       "      <td>34c2dc93</td>\n",
       "      <td>1986-07-18</td>\n",
       "      <td>0.0</td>\n",
       "      <td>2007-04-19 00:00:00.000</td>\n",
       "      <td>2017-11-13 13:36:45.656</td>\n",
       "      <td>4708e0bb</td>\n",
       "      <td>1.0</td>\n",
       "      <td>260.0</td>\n",
       "      <td>260.00</td>\n",
       "      <td>植村秀三色眼影/眼线液/眉笔.</td>\n",
       "      <td>260.00</td>\n",
       "      <td>97.0</td>\n",
       "      <td>c3f4</td>\n",
       "      <td>8156.0</td>\n",
       "      <td>Shu Uemura</td>\n",
       "      <td>32</td>\n",
       "      <td>秋季</td>\n",
       "      <td>3914</td>\n",
       "    </tr>\n",
       "    <tr>\n",
       "      <th>10</th>\n",
       "      <td>828aa9b4</td>\n",
       "      <td>1951-12-29</td>\n",
       "      <td>0.0</td>\n",
       "      <td>2004-09-24 16:39:08.716</td>\n",
       "      <td>2017-05-17 11:30:39.080</td>\n",
       "      <td>a4809307</td>\n",
       "      <td>1.0</td>\n",
       "      <td>1288.0</td>\n",
       "      <td>1288.00</td>\n",
       "      <td>酷彩F件</td>\n",
       "      <td>1288.00</td>\n",
       "      <td>102.0</td>\n",
       "      <td>95b0</td>\n",
       "      <td>7300.0</td>\n",
       "      <td>Le Creuset(酷彩)</td>\n",
       "      <td>67</td>\n",
       "      <td>春季</td>\n",
       "      <td>4850</td>\n",
       "    </tr>\n",
       "  </tbody>\n",
       "</table>\n",
       "</div>"
      ],
      "text/plain": [
       "          kh       csrq   xb                    djsj                   dtime  \\\n",
       "1   a37cc182 1967-02-17  0.0 2004-12-31 21:24:34.216 2016-09-25 10:49:14.016   \n",
       "2   a37cc182 1967-02-17  0.0 2004-12-31 21:24:34.216 2016-09-25 10:49:14.016   \n",
       "3   a37cc182 1967-02-17  0.0 2004-12-31 21:24:34.216 2017-02-28 17:17:35.533   \n",
       "7   34c2dc93 1986-07-18  0.0 2007-04-19 00:00:00.000 2017-11-13 13:36:45.656   \n",
       "10  828aa9b4 1951-12-29  0.0 2004-09-24 16:39:08.716 2017-05-17 11:30:39.080   \n",
       "\n",
       "        spbm   sl       sj        je             spmc        jf   syjh   djh  \\\n",
       "1   d62a69e3  1.0    499.0    297.07           WMF D无    297.08  101.0  7cd8   \n",
       "2   d62a69e3  1.0  12288.0  11089.93           WMF D无  11089.92  101.0  7cd8   \n",
       "3   252403ef  1.0    598.0    598.00         双立人商品 F无    598.00  102.0  ed0a   \n",
       "7   4708e0bb  1.0    260.0    260.00  植村秀三色眼影/眼线液/眉笔.    260.00   97.0  c3f4   \n",
       "10  a4809307  1.0   1288.0   1288.00             酷彩F件   1288.00  102.0  95b0   \n",
       "\n",
       "      gzbm            gzmc  nl  jj  rhsc  \n",
       "1   7296.0           WMF 柜  51  秋季  4752  \n",
       "2   7296.0           WMF 柜  51  秋季  4752  \n",
       "3   7242.0            双立人柜  51  冬季  4752  \n",
       "7   8156.0      Shu Uemura  32  秋季  3914  \n",
       "10  7300.0  Le Creuset(酷彩)  67  春季  4850  "
      ]
     },
     "execution_count": 14,
     "metadata": {},
     "output_type": "execute_result"
    }
   ],
   "source": [
    "whole2.head()"
   ]
  },
  {
   "cell_type": "code",
   "execution_count": 15,
   "metadata": {},
   "outputs": [],
   "source": [
    "gzmc = whole2['gzmc']"
   ]
  },
  {
   "cell_type": "code",
   "execution_count": 16,
   "metadata": {},
   "outputs": [
    {
     "data": {
      "text/plain": [
       "410936"
      ]
     },
     "execution_count": 16,
     "metadata": {},
     "output_type": "execute_result"
    }
   ],
   "source": [
    "len(gzmc)"
   ]
  },
  {
   "cell_type": "code",
   "execution_count": 17,
   "metadata": {},
   "outputs": [],
   "source": [
    "gzmc2 = set(gzmc.values)"
   ]
  },
  {
   "cell_type": "code",
   "execution_count": 18,
   "metadata": {},
   "outputs": [],
   "source": [
    "gzmc3 = list(gzmc2)"
   ]
  },
  {
   "cell_type": "code",
   "execution_count": 19,
   "metadata": {},
   "outputs": [
    {
     "data": {
      "text/plain": [
       "814"
      ]
     },
     "execution_count": 19,
     "metadata": {},
     "output_type": "execute_result"
    }
   ],
   "source": [
    "len(gzmc3)"
   ]
  },
  {
   "cell_type": "code",
   "execution_count": 23,
   "metadata": {},
   "outputs": [],
   "source": [
    "def get_lab(kh):\n",
    "    order = whole2[whole2['kh'] == kh]\n",
    "    \n",
    "    # 基本特征标签\n",
    "    xb = order.iloc[0]['xb'] # 性别\n",
    "    if xb == 0.0:\n",
    "        xb = '女'\n",
    "    elif xb == 1.0:\n",
    "        xb = '男'\n",
    "    rhsc = order.iloc[0]['rhsc'] #入会时长（天）\n",
    "    nl = order.iloc[0]['nl'] # 年龄\n",
    "    \n",
    "    # 业务特征标签\n",
    "    jf = np.sum(order['jf']) # 积分\n",
    "    xfsp = np.sum(order['je']) # 消费水平\n",
    "    xfpc = len(set(order['dtime'].apply(lambda x:(x.year,x.month,x.day,x.hour)))) # 消费频次\n",
    "    \n",
    "    # 兴趣特征标签\n",
    "    # 提取购物偏好特征，设定为用户购买物品的柜组名称最高频的3个\n",
    "    gzmc = order['gzmc']\n",
    "    gzmc_pc = gzmc.value_counts()\n",
    "    if len(gzmc_pc) > 3:\n",
    "        gzmc_lab = list(gzmc_pc.index[:3])\n",
    "    else:\n",
    "        gzmc_lab = list(gzmc_pc.index)\n",
    "\n",
    "    \n",
    "    jj = list(set(order['jj'].values)) # 季节偏好,选取最高频的购物季节\n",
    "    gwjj_list = list(order['jj'].values)\n",
    "    jjph = jj[0]\n",
    "    jjcs = gwjj_list.count(jjph)\n",
    "    for i in jj:\n",
    "        if gwjj_list.count(i) > jjcs:\n",
    "            jjph = i\n",
    "            jjcs = gwjj_list.count(i)\n",
    "    \n",
    "    \n",
    "    return xb,rhsc,nl,jf,xfsp,gzmc_lab,jjph,xfpc"
   ]
  },
  {
   "cell_type": "code",
   "execution_count": 24,
   "metadata": {},
   "outputs": [
    {
     "data": {
      "text/plain": [
       "('女', 2385, 27, 890.0, 890.0, ['作品（特卖）柜'], '春季', 1)"
      ]
     },
     "execution_count": 24,
     "metadata": {},
     "output_type": "execute_result"
    }
   ],
   "source": [
    "get_lab(khs[107])"
   ]
  },
  {
   "cell_type": "code",
   "execution_count": 25,
   "metadata": {},
   "outputs": [],
   "source": [
    "xbs = []\n",
    "rhscs = []\n",
    "nls = []\n",
    "jfs = []\n",
    "xfsps = []\n",
    "gzmc_labs = []\n",
    "jjphs = []\n",
    "xfpcs = []\n",
    "\n",
    "for kh in khs:\n",
    "    xb,rhsc,nl,jf,xfsp,gzmc_lab,jjph,xfpc = get_lab(kh)\n",
    "    xbs.append(xb)\n",
    "    rhscs.append(rhsc)\n",
    "    nls.append(nl)\n",
    "    jfs.append(jf)\n",
    "    xfsps.append(xfsp)\n",
    "    gzmc_labs.append(gzmc_lab)\n",
    "    jjphs.append(jjph)\n",
    "    xfpcs.append(xfpc)"
   ]
  },
  {
   "cell_type": "code",
   "execution_count": 26,
   "metadata": {},
   "outputs": [],
   "source": [
    "labels = pd.DataFrame()\n",
    "labels['kh'] = khs\n",
    "labels['xb'] = xbs\n",
    "labels['rhsc'] = rhscs\n",
    "labels['nl'] = nls\n",
    "labels['jf'] = jfs\n",
    "labels['xfsp'] = xfsps\n",
    "labels['gwspph'] = gzmc_labs\n",
    "labels['jjph'] = jjphs\n",
    "labels['xfpc'] = xfpcs"
   ]
  },
  {
   "cell_type": "code",
   "execution_count": 27,
   "metadata": {},
   "outputs": [
    {
     "data": {
      "text/html": [
       "<div>\n",
       "<style scoped>\n",
       "    .dataframe tbody tr th:only-of-type {\n",
       "        vertical-align: middle;\n",
       "    }\n",
       "\n",
       "    .dataframe tbody tr th {\n",
       "        vertical-align: top;\n",
       "    }\n",
       "\n",
       "    .dataframe thead th {\n",
       "        text-align: right;\n",
       "    }\n",
       "</style>\n",
       "<table border=\"1\" class=\"dataframe\">\n",
       "  <thead>\n",
       "    <tr style=\"text-align: right;\">\n",
       "      <th></th>\n",
       "      <th>kh</th>\n",
       "      <th>xb</th>\n",
       "      <th>rhsc</th>\n",
       "      <th>nl</th>\n",
       "      <th>jf</th>\n",
       "      <th>xfsp</th>\n",
       "      <th>gwspph</th>\n",
       "      <th>jjph</th>\n",
       "      <th>xfpc</th>\n",
       "    </tr>\n",
       "  </thead>\n",
       "  <tbody>\n",
       "    <tr>\n",
       "      <th>0</th>\n",
       "      <td>8c8011fa</td>\n",
       "      <td>女</td>\n",
       "      <td>2096</td>\n",
       "      <td>44</td>\n",
       "      <td>4946.00</td>\n",
       "      <td>4946.00</td>\n",
       "      <td>[科颜氏柜, 沙驰男装柜]</td>\n",
       "      <td>冬季</td>\n",
       "      <td>2</td>\n",
       "    </tr>\n",
       "    <tr>\n",
       "      <th>1</th>\n",
       "      <td>df5c408a</td>\n",
       "      <td>女</td>\n",
       "      <td>2871</td>\n",
       "      <td>35</td>\n",
       "      <td>3578.00</td>\n",
       "      <td>3578.00</td>\n",
       "      <td>[BIOTHERM, Fancl柜]</td>\n",
       "      <td>春季</td>\n",
       "      <td>2</td>\n",
       "    </tr>\n",
       "    <tr>\n",
       "      <th>2</th>\n",
       "      <td>e2471fe6</td>\n",
       "      <td>女</td>\n",
       "      <td>1412</td>\n",
       "      <td>23</td>\n",
       "      <td>24062.62</td>\n",
       "      <td>25174.00</td>\n",
       "      <td>[BIOTHERM, LANCOME, 科颜氏(Kiehl's)]</td>\n",
       "      <td>夏季</td>\n",
       "      <td>25</td>\n",
       "    </tr>\n",
       "    <tr>\n",
       "      <th>3</th>\n",
       "      <td>c68d6c18</td>\n",
       "      <td>女</td>\n",
       "      <td>53</td>\n",
       "      <td>29</td>\n",
       "      <td>4134.00</td>\n",
       "      <td>6802.02</td>\n",
       "      <td>[APM, DKNY 柜, ladanum&amp;myteno]</td>\n",
       "      <td>秋季</td>\n",
       "      <td>4</td>\n",
       "    </tr>\n",
       "    <tr>\n",
       "      <th>4</th>\n",
       "      <td>2786b582</td>\n",
       "      <td>女</td>\n",
       "      <td>1752</td>\n",
       "      <td>56</td>\n",
       "      <td>1170.00</td>\n",
       "      <td>1170.00</td>\n",
       "      <td>[兰芝柜]</td>\n",
       "      <td>春季</td>\n",
       "      <td>1</td>\n",
       "    </tr>\n",
       "  </tbody>\n",
       "</table>\n",
       "</div>"
      ],
      "text/plain": [
       "         kh xb  rhsc  nl        jf      xfsp  \\\n",
       "0  8c8011fa  女  2096  44   4946.00   4946.00   \n",
       "1  df5c408a  女  2871  35   3578.00   3578.00   \n",
       "2  e2471fe6  女  1412  23  24062.62  25174.00   \n",
       "3  c68d6c18  女    53  29   4134.00   6802.02   \n",
       "4  2786b582  女  1752  56   1170.00   1170.00   \n",
       "\n",
       "                              gwspph jjph  xfpc  \n",
       "0                      [科颜氏柜, 沙驰男装柜]   冬季     2  \n",
       "1                 [BIOTHERM, Fancl柜]   春季     2  \n",
       "2  [BIOTHERM, LANCOME, 科颜氏(Kiehl's)]   夏季    25  \n",
       "3      [APM, DKNY 柜, ladanum&myteno]   秋季     4  \n",
       "4                              [兰芝柜]   春季     1  "
      ]
     },
     "execution_count": 27,
     "metadata": {},
     "output_type": "execute_result"
    }
   ],
   "source": [
    "labels.head()"
   ]
  },
  {
   "cell_type": "code",
   "execution_count": 28,
   "metadata": {},
   "outputs": [
    {
     "data": {
      "text/html": [
       "<div>\n",
       "<style scoped>\n",
       "    .dataframe tbody tr th:only-of-type {\n",
       "        vertical-align: middle;\n",
       "    }\n",
       "\n",
       "    .dataframe tbody tr th {\n",
       "        vertical-align: top;\n",
       "    }\n",
       "\n",
       "    .dataframe thead th {\n",
       "        text-align: right;\n",
       "    }\n",
       "</style>\n",
       "<table border=\"1\" class=\"dataframe\">\n",
       "  <thead>\n",
       "    <tr style=\"text-align: right;\">\n",
       "      <th></th>\n",
       "      <th>rhsc</th>\n",
       "      <th>nl</th>\n",
       "      <th>jf</th>\n",
       "      <th>xfsp</th>\n",
       "      <th>xfpc</th>\n",
       "    </tr>\n",
       "  </thead>\n",
       "  <tbody>\n",
       "    <tr>\n",
       "      <th>count</th>\n",
       "      <td>31361.000000</td>\n",
       "      <td>31361.000000</td>\n",
       "      <td>3.136100e+04</td>\n",
       "      <td>3.136100e+04</td>\n",
       "      <td>31361.000000</td>\n",
       "    </tr>\n",
       "    <tr>\n",
       "      <th>mean</th>\n",
       "      <td>1679.229170</td>\n",
       "      <td>41.307484</td>\n",
       "      <td>1.414130e+04</td>\n",
       "      <td>1.844931e+04</td>\n",
       "      <td>5.659577</td>\n",
       "    </tr>\n",
       "    <tr>\n",
       "      <th>std</th>\n",
       "      <td>1167.199552</td>\n",
       "      <td>10.118743</td>\n",
       "      <td>3.784904e+04</td>\n",
       "      <td>5.213320e+04</td>\n",
       "      <td>10.064520</td>\n",
       "    </tr>\n",
       "    <tr>\n",
       "      <th>min</th>\n",
       "      <td>1.000000</td>\n",
       "      <td>8.000000</td>\n",
       "      <td>0.000000e+00</td>\n",
       "      <td>0.000000e+00</td>\n",
       "      <td>1.000000</td>\n",
       "    </tr>\n",
       "    <tr>\n",
       "      <th>25%</th>\n",
       "      <td>861.000000</td>\n",
       "      <td>33.000000</td>\n",
       "      <td>1.320000e+03</td>\n",
       "      <td>1.865000e+03</td>\n",
       "      <td>1.000000</td>\n",
       "    </tr>\n",
       "    <tr>\n",
       "      <th>50%</th>\n",
       "      <td>1415.000000</td>\n",
       "      <td>41.000000</td>\n",
       "      <td>4.000000e+03</td>\n",
       "      <td>5.263000e+03</td>\n",
       "      <td>2.000000</td>\n",
       "    </tr>\n",
       "    <tr>\n",
       "      <th>75%</th>\n",
       "      <td>2466.000000</td>\n",
       "      <td>48.000000</td>\n",
       "      <td>1.181400e+04</td>\n",
       "      <td>1.559840e+04</td>\n",
       "      <td>6.000000</td>\n",
       "    </tr>\n",
       "    <tr>\n",
       "      <th>max</th>\n",
       "      <td>5552.000000</td>\n",
       "      <td>97.000000</td>\n",
       "      <td>1.413370e+06</td>\n",
       "      <td>3.281898e+06</td>\n",
       "      <td>223.000000</td>\n",
       "    </tr>\n",
       "  </tbody>\n",
       "</table>\n",
       "</div>"
      ],
      "text/plain": [
       "               rhsc            nl            jf          xfsp          xfpc\n",
       "count  31361.000000  31361.000000  3.136100e+04  3.136100e+04  31361.000000\n",
       "mean    1679.229170     41.307484  1.414130e+04  1.844931e+04      5.659577\n",
       "std     1167.199552     10.118743  3.784904e+04  5.213320e+04     10.064520\n",
       "min        1.000000      8.000000  0.000000e+00  0.000000e+00      1.000000\n",
       "25%      861.000000     33.000000  1.320000e+03  1.865000e+03      1.000000\n",
       "50%     1415.000000     41.000000  4.000000e+03  5.263000e+03      2.000000\n",
       "75%     2466.000000     48.000000  1.181400e+04  1.559840e+04      6.000000\n",
       "max     5552.000000     97.000000  1.413370e+06  3.281898e+06    223.000000"
      ]
     },
     "execution_count": 28,
     "metadata": {},
     "output_type": "execute_result"
    }
   ],
   "source": [
    "labels.describe()"
   ]
  },
  {
   "cell_type": "code",
   "execution_count": 29,
   "metadata": {},
   "outputs": [],
   "source": [
    "labels.to_csv('temp/label.csv')"
   ]
  },
  {
   "cell_type": "code",
   "execution_count": null,
   "metadata": {},
   "outputs": [],
   "source": [
    "labels = pd.read_csv('label.csv')"
   ]
  },
  {
   "cell_type": "code",
   "execution_count": 89,
   "metadata": {},
   "outputs": [],
   "source": [
    "# 可视化标签\n",
    "def visual_lab(kh):    \n",
    "    import wordcloud\n",
    "    import PIL.Image as image\n",
    "    info = labels[labels['kh'] == kh].values[0][1:]\n",
    "    text = [str(i) for i in info[:5]]\n",
    "    for i in eval(str(info[5])):\n",
    "        text.append(i)\n",
    "    for i in info[6:]:\n",
    "        text.append(str(i))\n",
    "    \n",
    "    text[0] += '性'\n",
    "    text[1] = '入会' + str(text[1]) + '天'\n",
    "    text[2] += '岁'\n",
    "    text[3] = str(int(eval(text[3]))) + '分'\n",
    "    text[4] = str(int(eval(text[4]))) + '元'\n",
    "    text[-1] = '消费' + str(text[-1]) + '次'\n",
    "\n",
    "    print_text = ''\n",
    "    for i in text:\n",
    "        print_text += i\n",
    "        print_text += ' '\n",
    "\n",
    "    if info[0] == '男':\n",
    "        mask = np.array(image.open(\"male.png\"))\n",
    "    elif info[0] == '女':\n",
    "        mask = np.array(image.open(\"female.png\"))\n",
    "\n",
    "    wc = wordcloud.WordCloud(scale = 16,mask=mask,background_color='white',colormap=\"coolwarm\")\n",
    "    X = wc.generate(str(print_text))\n",
    "    plt.figure(figsize = (8,8))\n",
    "    plt.axis('off')\n",
    "    plt.imshow(X)\n",
    "\n"
   ]
  },
  {
   "cell_type": "code",
   "execution_count": 93,
   "metadata": {},
   "outputs": [
    {
     "data": {
      "image/png": "[encoded data removed]",
      "text/plain": [
       "<matplotlib.figure.Figure at 0x7fc1a7493ef0>"
      ]
     },
     "metadata": {},
     "output_type": "display_data"
    }
   ],
   "source": [
    "# 举例\n",
    "visual_lab(khs[68])"
   ]
  },
  {
   "cell_type": "code",
   "execution_count": null,
   "metadata": {},
   "outputs": [],
   "source": []
  }
 ],
 "metadata": {
  "kernelspec": {
   "display_name": "Python 3",
   "language": "python",
   "name": "python3"
  },
  "language_info": {
   "codemirror_mode": {
    "name": "ipython",
    "version": 3
   },
   "file_extension": ".py",
   "mimetype": "text/x-python",
   "name": "python",
   "nbconvert_exporter": "python",
   "pygments_lexer": "ipython3",
   "version": "3.6.2"
  }
 },
 "nbformat": 4,
 "nbformat_minor": 2
}
