{
 "cells": [
  {
   "cell_type": "code",
   "execution_count": 1,
   "metadata": {},
   "outputs": [],
   "source": [
    "import numpy as np\n",
    "import pandas as pd"
   ]
  },
  {
   "cell_type": "markdown",
   "metadata": {},
   "source": [
    "# 任务1.1结合业务对数据进行探索与预处理"
   ]
  },
  {
   "cell_type": "code",
   "execution_count": 2,
   "metadata": {},
   "outputs": [
    {
     "name": "stderr",
     "output_type": "stream",
     "text": [
      "/home/linux/anaconda3/lib/python3.6/site-packages/IPython/core/interactiveshell.py:2728: DtypeWarning: Columns (0,11) have mixed types. Specify dtype option on import or set low_memory=False.\n",
      "  interactivity=interactivity, compiler=compiler, result=result)\n"
     ]
    }
   ],
   "source": [
    "# 读取会员信息表与销售流水表数据\n",
    "member = pd.read_excel('项目数据1.xlsx')\n",
    "order = pd.read_csv('项目数据2.csv')"
   ]
  },
  {
   "cell_type": "code",
   "execution_count": 3,
   "metadata": {},
   "outputs": [
    {
     "data": {
      "text/html": [
       "<div>\n",
       "<style scoped>\n",
       "    .dataframe tbody tr th:only-of-type {\n",
       "        vertical-align: middle;\n",
       "    }\n",
       "\n",
       "    .dataframe tbody tr th {\n",
       "        vertical-align: top;\n",
       "    }\n",
       "\n",
       "    .dataframe thead th {\n",
       "        text-align: right;\n",
       "    }\n",
       "</style>\n",
       "<table border=\"1\" class=\"dataframe\">\n",
       "  <thead>\n",
       "    <tr style=\"text-align: right;\">\n",
       "      <th></th>\n",
       "      <th>kh</th>\n",
       "      <th>csrq</th>\n",
       "      <th>xb</th>\n",
       "      <th>djsj</th>\n",
       "    </tr>\n",
       "  </thead>\n",
       "  <tbody>\n",
       "    <tr>\n",
       "      <th>0</th>\n",
       "      <td>c68b20b4</td>\n",
       "      <td>2002-11-02 00:00:00</td>\n",
       "      <td>0.0</td>\n",
       "      <td>2013-05-11 00:00:00.000</td>\n",
       "    </tr>\n",
       "    <tr>\n",
       "      <th>1</th>\n",
       "      <td>1ca15332</td>\n",
       "      <td>NaN</td>\n",
       "      <td>0.0</td>\n",
       "      <td>2004-11-04 16:31:52.436</td>\n",
       "    </tr>\n",
       "    <tr>\n",
       "      <th>2</th>\n",
       "      <td>a37cc182</td>\n",
       "      <td>1967-02-17 00:00:00</td>\n",
       "      <td>0.0</td>\n",
       "      <td>2004-12-31 21:24:34.216</td>\n",
       "    </tr>\n",
       "    <tr>\n",
       "      <th>3</th>\n",
       "      <td>2ab88539</td>\n",
       "      <td>1982-06-01 00:00:00</td>\n",
       "      <td>0.0</td>\n",
       "      <td>2010-11-19 00:00:00.000</td>\n",
       "    </tr>\n",
       "    <tr>\n",
       "      <th>4</th>\n",
       "      <td>b4c77269</td>\n",
       "      <td>1964-02-05 00:00:00</td>\n",
       "      <td>0.0</td>\n",
       "      <td>2007-12-14 00:00:00.000</td>\n",
       "    </tr>\n",
       "  </tbody>\n",
       "</table>\n",
       "</div>"
      ],
      "text/plain": [
       "         kh                 csrq   xb                    djsj\n",
       "0  c68b20b4  2002-11-02 00:00:00  0.0 2013-05-11 00:00:00.000\n",
       "1  1ca15332                  NaN  0.0 2004-11-04 16:31:52.436\n",
       "2  a37cc182  1967-02-17 00:00:00  0.0 2004-12-31 21:24:34.216\n",
       "3  2ab88539  1982-06-01 00:00:00  0.0 2010-11-19 00:00:00.000\n",
       "4  b4c77269  1964-02-05 00:00:00  0.0 2007-12-14 00:00:00.000"
      ]
     },
     "execution_count": 3,
     "metadata": {},
     "output_type": "execute_result"
    }
   ],
   "source": [
    "member.head()"
   ]
  },
  {
   "cell_type": "code",
   "execution_count": 4,
   "metadata": {},
   "outputs": [
    {
     "data": {
      "text/html": [
       "<div>\n",
       "<style scoped>\n",
       "    .dataframe tbody tr th:only-of-type {\n",
       "        vertical-align: middle;\n",
       "    }\n",
       "\n",
       "    .dataframe tbody tr th {\n",
       "        vertical-align: top;\n",
       "    }\n",
       "\n",
       "    .dataframe thead th {\n",
       "        text-align: right;\n",
       "    }\n",
       "</style>\n",
       "<table border=\"1\" class=\"dataframe\">\n",
       "  <thead>\n",
       "    <tr style=\"text-align: right;\">\n",
       "      <th></th>\n",
       "      <th>kh</th>\n",
       "      <th>dtime</th>\n",
       "      <th>spbm</th>\n",
       "      <th>sl</th>\n",
       "      <th>sj</th>\n",
       "      <th>je</th>\n",
       "      <th>spmc</th>\n",
       "      <th>jf</th>\n",
       "      <th>syjh</th>\n",
       "      <th>djh</th>\n",
       "      <th>gzbm</th>\n",
       "      <th>gzmc</th>\n",
       "    </tr>\n",
       "  </thead>\n",
       "  <tbody>\n",
       "    <tr>\n",
       "      <th>0</th>\n",
       "      <td>1be1e3fe</td>\n",
       "      <td>2015-01-01 00:05:41.593</td>\n",
       "      <td>f09c9303</td>\n",
       "      <td>1</td>\n",
       "      <td>290.0</td>\n",
       "      <td>270.20</td>\n",
       "      <td>兰芝化妆品正价瓶</td>\n",
       "      <td>270.20</td>\n",
       "      <td>6</td>\n",
       "      <td>25bb</td>\n",
       "      <td>8077.0</td>\n",
       "      <td>兰芝柜</td>\n",
       "    </tr>\n",
       "    <tr>\n",
       "      <th>1</th>\n",
       "      <td>1be1e3fe</td>\n",
       "      <td>2015-01-01 00:05:41.593</td>\n",
       "      <td>f09c9303</td>\n",
       "      <td>1</td>\n",
       "      <td>325.0</td>\n",
       "      <td>302.80</td>\n",
       "      <td>兰芝化妆品正价瓶</td>\n",
       "      <td>302.80</td>\n",
       "      <td>6</td>\n",
       "      <td>25bb</td>\n",
       "      <td>8077.0</td>\n",
       "      <td>兰芝柜</td>\n",
       "    </tr>\n",
       "    <tr>\n",
       "      <th>2</th>\n",
       "      <td>1be1e3fe</td>\n",
       "      <td>2015-01-01 00:05:41.593</td>\n",
       "      <td>f09c9303</td>\n",
       "      <td>1</td>\n",
       "      <td>195.0</td>\n",
       "      <td>181.80</td>\n",
       "      <td>兰芝化妆品正价瓶</td>\n",
       "      <td>181.80</td>\n",
       "      <td>6</td>\n",
       "      <td>25bb</td>\n",
       "      <td>8077.0</td>\n",
       "      <td>兰芝柜</td>\n",
       "    </tr>\n",
       "    <tr>\n",
       "      <th>3</th>\n",
       "      <td>1be1e3fe</td>\n",
       "      <td>2015-01-01 00:05:41.593</td>\n",
       "      <td>f09c9303</td>\n",
       "      <td>1</td>\n",
       "      <td>270.0</td>\n",
       "      <td>251.55</td>\n",
       "      <td>兰芝化妆品正价瓶</td>\n",
       "      <td>251.55</td>\n",
       "      <td>6</td>\n",
       "      <td>25bb</td>\n",
       "      <td>8077.0</td>\n",
       "      <td>兰芝柜</td>\n",
       "    </tr>\n",
       "    <tr>\n",
       "      <th>4</th>\n",
       "      <td>1be1e3fe</td>\n",
       "      <td>2015-01-01 00:05:41.593</td>\n",
       "      <td>f09c9303</td>\n",
       "      <td>2</td>\n",
       "      <td>245.0</td>\n",
       "      <td>456.55</td>\n",
       "      <td>兰芝化妆品正价瓶</td>\n",
       "      <td>456.55</td>\n",
       "      <td>6</td>\n",
       "      <td>25bb</td>\n",
       "      <td>8077.0</td>\n",
       "      <td>兰芝柜</td>\n",
       "    </tr>\n",
       "  </tbody>\n",
       "</table>\n",
       "</div>"
      ],
      "text/plain": [
       "         kh                    dtime      spbm  sl     sj      je      spmc  \\\n",
       "0  1be1e3fe  2015-01-01 00:05:41.593  f09c9303   1  290.0  270.20  兰芝化妆品正价瓶   \n",
       "1  1be1e3fe  2015-01-01 00:05:41.593  f09c9303   1  325.0  302.80  兰芝化妆品正价瓶   \n",
       "2  1be1e3fe  2015-01-01 00:05:41.593  f09c9303   1  195.0  181.80  兰芝化妆品正价瓶   \n",
       "3  1be1e3fe  2015-01-01 00:05:41.593  f09c9303   1  270.0  251.55  兰芝化妆品正价瓶   \n",
       "4  1be1e3fe  2015-01-01 00:05:41.593  f09c9303   2  245.0  456.55  兰芝化妆品正价瓶   \n",
       "\n",
       "       jf  syjh   djh    gzbm gzmc  \n",
       "0  270.20     6  25bb  8077.0  兰芝柜  \n",
       "1  302.80     6  25bb  8077.0  兰芝柜  \n",
       "2  181.80     6  25bb  8077.0  兰芝柜  \n",
       "3  251.55     6  25bb  8077.0  兰芝柜  \n",
       "4  456.55     6  25bb  8077.0  兰芝柜  "
      ]
     },
     "execution_count": 4,
     "metadata": {},
     "output_type": "execute_result"
    }
   ],
   "source": [
    "order.head()"
   ]
  },
  {
   "cell_type": "markdown",
   "metadata": {},
   "source": [
    "## 检测与处理重复值"
   ]
  },
  {
   "cell_type": "code",
   "execution_count": 5,
   "metadata": {},
   "outputs": [
    {
     "name": "stdout",
     "output_type": "stream",
     "text": [
      "卡号的重复值有： 6\n"
     ]
    }
   ],
   "source": [
    "print('卡号的重复值有：',len(member['kh']) - len(set(member['kh'].values)))"
   ]
  },
  {
   "cell_type": "code",
   "execution_count": 6,
   "metadata": {},
   "outputs": [],
   "source": [
    "# 去除重复的卡号\n",
    "member.drop_duplicates(subset = 'kh', inplace = True)"
   ]
  },
  {
   "cell_type": "code",
   "execution_count": 7,
   "metadata": {},
   "outputs": [
    {
     "name": "stdout",
     "output_type": "stream",
     "text": [
      "卡号的重复值有： 0\n"
     ]
    }
   ],
   "source": [
    "print('卡号的重复值有：',len(member['kh']) - len(set(member['kh'].values)))"
   ]
  },
  {
   "cell_type": "markdown",
   "metadata": {},
   "source": [
    "## 检测与处理缺失值"
   ]
  },
  {
   "cell_type": "code",
   "execution_count": 8,
   "metadata": {},
   "outputs": [
    {
     "data": {
      "text/plain": [
       "kh          0\n",
       "csrq    34187\n",
       "xb       9435\n",
       "djsj    12684\n",
       "dtype: int64"
      ]
     },
     "execution_count": 8,
     "metadata": {},
     "output_type": "execute_result"
    }
   ],
   "source": [
    "member.isnull().sum()"
   ]
  },
  {
   "cell_type": "markdown",
   "metadata": {},
   "source": [
    "会员信息表存在信息缺失值"
   ]
  },
  {
   "cell_type": "code",
   "execution_count": 9,
   "metadata": {},
   "outputs": [
    {
     "data": {
      "text/plain": [
       "kh       1017486\n",
       "dtime          0\n",
       "spbm           0\n",
       "sl             0\n",
       "sj             0\n",
       "je             0\n",
       "spmc           0\n",
       "jf       1017486\n",
       "syjh           0\n",
       "djh            0\n",
       "gzbm     1017486\n",
       "gzmc     1036956\n",
       "dtype: int64"
      ]
     },
     "execution_count": 9,
     "metadata": {},
     "output_type": "execute_result"
    }
   ],
   "source": [
    "order.isnull().sum()"
   ]
  },
  {
   "cell_type": "markdown",
   "metadata": {},
   "source": [
    "销售流水表包含非会员购买的订单，卡号缺失为非会员的订单\n",
    "\n",
    "将会员信息表含有缺失值的记录删除"
   ]
  },
  {
   "cell_type": "code",
   "execution_count": 10,
   "metadata": {},
   "outputs": [
    {
     "name": "stderr",
     "output_type": "stream",
     "text": [
      "/home/linux/anaconda3/lib/python3.6/site-packages/pandas/core/frame.py:4097: SettingWithCopyWarning: \n",
      "A value is trying to be set on a copy of a slice from a DataFrame\n",
      "\n",
      "See the caveats in the documentation: http://pandas.pydata.org/pandas-docs/stable/user_guide/indexing.html#returning-a-view-versus-a-copy\n",
      "  errors=errors,\n"
     ]
    },
    {
     "data": {
      "text/plain": [
       "kh      0\n",
       "csrq    0\n",
       "xb      0\n",
       "djsj    0\n",
       "dtype: int64"
      ]
     },
     "execution_count": 10,
     "metadata": {},
     "output_type": "execute_result"
    }
   ],
   "source": [
    "#去除空值\n",
    "member2 = member.dropna()\n",
    "#重置索引\n",
    "member2.reset_index(inplace = True)\n",
    "member2.drop(axis = 1,columns = 'index',inplace = True)\n",
    "member2.isnull().sum()"
   ]
  },
  {
   "cell_type": "markdown",
   "metadata": {},
   "source": [
    "## 检测与处理异常值"
   ]
  },
  {
   "cell_type": "markdown",
   "metadata": {},
   "source": [
    "日期异常值"
   ]
  },
  {
   "cell_type": "code",
   "execution_count": 11,
   "metadata": {},
   "outputs": [],
   "source": [
    "# 首先删除会员信息表和销售流水表中，日期因为越界异常而无法转换为datetime格式的记录\n",
    "def filter_date(datestr):\n",
    "    try:\n",
    "        pd.to_datetime(datestr)\n",
    "        return True\n",
    "    except:\n",
    "        return False"
   ]
  },
  {
   "cell_type": "code",
   "execution_count": 12,
   "metadata": {},
   "outputs": [],
   "source": [
    "# 过滤出生日期越界记录\n",
    "mem_csrq_filter = member2['csrq'].apply(lambda x:filter_date(x))\n",
    "member3 = member2[mem_csrq_filter]"
   ]
  },
  {
   "cell_type": "code",
   "execution_count": 13,
   "metadata": {},
   "outputs": [],
   "source": [
    "# 过滤登记时间越接记录\n",
    "mem_djsj_filter = member3['djsj'].apply(lambda x:filter_date(x))\n",
    "member3 = member3[mem_djsj_filter]"
   ]
  },
  {
   "cell_type": "code",
   "execution_count": 14,
   "metadata": {},
   "outputs": [],
   "source": [
    "# 重置索引\n",
    "member3.reset_index(inplace = True)\n",
    "member3.drop(axis = 1,columns = 'index',inplace = True)"
   ]
  },
  {
   "cell_type": "code",
   "execution_count": 15,
   "metadata": {},
   "outputs": [
    {
     "data": {
      "text/html": [
       "<div>\n",
       "<style scoped>\n",
       "    .dataframe tbody tr th:only-of-type {\n",
       "        vertical-align: middle;\n",
       "    }\n",
       "\n",
       "    .dataframe tbody tr th {\n",
       "        vertical-align: top;\n",
       "    }\n",
       "\n",
       "    .dataframe thead th {\n",
       "        text-align: right;\n",
       "    }\n",
       "</style>\n",
       "<table border=\"1\" class=\"dataframe\">\n",
       "  <thead>\n",
       "    <tr style=\"text-align: right;\">\n",
       "      <th></th>\n",
       "      <th>kh</th>\n",
       "      <th>csrq</th>\n",
       "      <th>xb</th>\n",
       "      <th>djsj</th>\n",
       "    </tr>\n",
       "  </thead>\n",
       "  <tbody>\n",
       "    <tr>\n",
       "      <th>0</th>\n",
       "      <td>c68b20b4</td>\n",
       "      <td>2002-11-02 00:00:00</td>\n",
       "      <td>0.0</td>\n",
       "      <td>2013-05-11 00:00:00.000</td>\n",
       "    </tr>\n",
       "    <tr>\n",
       "      <th>1</th>\n",
       "      <td>a37cc182</td>\n",
       "      <td>1967-02-17 00:00:00</td>\n",
       "      <td>0.0</td>\n",
       "      <td>2004-12-31 21:24:34.216</td>\n",
       "    </tr>\n",
       "    <tr>\n",
       "      <th>2</th>\n",
       "      <td>2ab88539</td>\n",
       "      <td>1982-06-01 00:00:00</td>\n",
       "      <td>0.0</td>\n",
       "      <td>2010-11-19 00:00:00.000</td>\n",
       "    </tr>\n",
       "    <tr>\n",
       "      <th>3</th>\n",
       "      <td>b4c77269</td>\n",
       "      <td>1964-02-05 00:00:00</td>\n",
       "      <td>0.0</td>\n",
       "      <td>2007-12-14 00:00:00.000</td>\n",
       "    </tr>\n",
       "    <tr>\n",
       "      <th>4</th>\n",
       "      <td>83a91070</td>\n",
       "      <td>1968-06-18 00:00:00</td>\n",
       "      <td>1.0</td>\n",
       "      <td>2004-05-01 16:50:13.950</td>\n",
       "    </tr>\n",
       "  </tbody>\n",
       "</table>\n",
       "</div>"
      ],
      "text/plain": [
       "         kh                 csrq   xb                    djsj\n",
       "0  c68b20b4  2002-11-02 00:00:00  0.0 2013-05-11 00:00:00.000\n",
       "1  a37cc182  1967-02-17 00:00:00  0.0 2004-12-31 21:24:34.216\n",
       "2  2ab88539  1982-06-01 00:00:00  0.0 2010-11-19 00:00:00.000\n",
       "3  b4c77269  1964-02-05 00:00:00  0.0 2007-12-14 00:00:00.000\n",
       "4  83a91070  1968-06-18 00:00:00  1.0 2004-05-01 16:50:13.950"
      ]
     },
     "execution_count": 15,
     "metadata": {},
     "output_type": "execute_result"
    }
   ],
   "source": [
    "member3.head()"
   ]
  },
  {
   "cell_type": "code",
   "execution_count": 16,
   "metadata": {},
   "outputs": [],
   "source": [
    "# 过滤销售流水表中销售日期越界记录\n",
    "ord_dtime_filter = order['dtime'].apply(lambda x:filter_date(x))\n",
    "order2 = order[ord_dtime_filter]\n",
    "# 重置索引\n",
    "order2.reset_index(inplace = True)\n",
    "order2.drop(axis = 1,columns = 'index',inplace = True)"
   ]
  },
  {
   "cell_type": "code",
   "execution_count": 17,
   "metadata": {},
   "outputs": [
    {
     "data": {
      "text/html": [
       "<div>\n",
       "<style scoped>\n",
       "    .dataframe tbody tr th:only-of-type {\n",
       "        vertical-align: middle;\n",
       "    }\n",
       "\n",
       "    .dataframe tbody tr th {\n",
       "        vertical-align: top;\n",
       "    }\n",
       "\n",
       "    .dataframe thead th {\n",
       "        text-align: right;\n",
       "    }\n",
       "</style>\n",
       "<table border=\"1\" class=\"dataframe\">\n",
       "  <thead>\n",
       "    <tr style=\"text-align: right;\">\n",
       "      <th></th>\n",
       "      <th>kh</th>\n",
       "      <th>dtime</th>\n",
       "      <th>spbm</th>\n",
       "      <th>sl</th>\n",
       "      <th>sj</th>\n",
       "      <th>je</th>\n",
       "      <th>spmc</th>\n",
       "      <th>jf</th>\n",
       "      <th>syjh</th>\n",
       "      <th>djh</th>\n",
       "      <th>gzbm</th>\n",
       "      <th>gzmc</th>\n",
       "    </tr>\n",
       "  </thead>\n",
       "  <tbody>\n",
       "    <tr>\n",
       "      <th>0</th>\n",
       "      <td>1be1e3fe</td>\n",
       "      <td>2015-01-01 00:05:41.593</td>\n",
       "      <td>f09c9303</td>\n",
       "      <td>1</td>\n",
       "      <td>290.0</td>\n",
       "      <td>270.20</td>\n",
       "      <td>兰芝化妆品正价瓶</td>\n",
       "      <td>270.20</td>\n",
       "      <td>6</td>\n",
       "      <td>25bb</td>\n",
       "      <td>8077.0</td>\n",
       "      <td>兰芝柜</td>\n",
       "    </tr>\n",
       "    <tr>\n",
       "      <th>1</th>\n",
       "      <td>1be1e3fe</td>\n",
       "      <td>2015-01-01 00:05:41.593</td>\n",
       "      <td>f09c9303</td>\n",
       "      <td>1</td>\n",
       "      <td>325.0</td>\n",
       "      <td>302.80</td>\n",
       "      <td>兰芝化妆品正价瓶</td>\n",
       "      <td>302.80</td>\n",
       "      <td>6</td>\n",
       "      <td>25bb</td>\n",
       "      <td>8077.0</td>\n",
       "      <td>兰芝柜</td>\n",
       "    </tr>\n",
       "    <tr>\n",
       "      <th>2</th>\n",
       "      <td>1be1e3fe</td>\n",
       "      <td>2015-01-01 00:05:41.593</td>\n",
       "      <td>f09c9303</td>\n",
       "      <td>1</td>\n",
       "      <td>195.0</td>\n",
       "      <td>181.80</td>\n",
       "      <td>兰芝化妆品正价瓶</td>\n",
       "      <td>181.80</td>\n",
       "      <td>6</td>\n",
       "      <td>25bb</td>\n",
       "      <td>8077.0</td>\n",
       "      <td>兰芝柜</td>\n",
       "    </tr>\n",
       "    <tr>\n",
       "      <th>3</th>\n",
       "      <td>1be1e3fe</td>\n",
       "      <td>2015-01-01 00:05:41.593</td>\n",
       "      <td>f09c9303</td>\n",
       "      <td>1</td>\n",
       "      <td>270.0</td>\n",
       "      <td>251.55</td>\n",
       "      <td>兰芝化妆品正价瓶</td>\n",
       "      <td>251.55</td>\n",
       "      <td>6</td>\n",
       "      <td>25bb</td>\n",
       "      <td>8077.0</td>\n",
       "      <td>兰芝柜</td>\n",
       "    </tr>\n",
       "    <tr>\n",
       "      <th>4</th>\n",
       "      <td>1be1e3fe</td>\n",
       "      <td>2015-01-01 00:05:41.593</td>\n",
       "      <td>f09c9303</td>\n",
       "      <td>2</td>\n",
       "      <td>245.0</td>\n",
       "      <td>456.55</td>\n",
       "      <td>兰芝化妆品正价瓶</td>\n",
       "      <td>456.55</td>\n",
       "      <td>6</td>\n",
       "      <td>25bb</td>\n",
       "      <td>8077.0</td>\n",
       "      <td>兰芝柜</td>\n",
       "    </tr>\n",
       "  </tbody>\n",
       "</table>\n",
       "</div>"
      ],
      "text/plain": [
       "         kh                    dtime      spbm  sl     sj      je      spmc  \\\n",
       "0  1be1e3fe  2015-01-01 00:05:41.593  f09c9303   1  290.0  270.20  兰芝化妆品正价瓶   \n",
       "1  1be1e3fe  2015-01-01 00:05:41.593  f09c9303   1  325.0  302.80  兰芝化妆品正价瓶   \n",
       "2  1be1e3fe  2015-01-01 00:05:41.593  f09c9303   1  195.0  181.80  兰芝化妆品正价瓶   \n",
       "3  1be1e3fe  2015-01-01 00:05:41.593  f09c9303   1  270.0  251.55  兰芝化妆品正价瓶   \n",
       "4  1be1e3fe  2015-01-01 00:05:41.593  f09c9303   2  245.0  456.55  兰芝化妆品正价瓶   \n",
       "\n",
       "       jf  syjh   djh    gzbm gzmc  \n",
       "0  270.20     6  25bb  8077.0  兰芝柜  \n",
       "1  302.80     6  25bb  8077.0  兰芝柜  \n",
       "2  181.80     6  25bb  8077.0  兰芝柜  \n",
       "3  251.55     6  25bb  8077.0  兰芝柜  \n",
       "4  456.55     6  25bb  8077.0  兰芝柜  "
      ]
     },
     "execution_count": 17,
     "metadata": {},
     "output_type": "execute_result"
    }
   ],
   "source": [
    "order2.head()"
   ]
  },
  {
   "cell_type": "code",
   "execution_count": 18,
   "metadata": {},
   "outputs": [],
   "source": [
    "# 将日期数据转换为datetime格式\n",
    "member3['csrq'] = pd.to_datetime(member3['csrq'])\n",
    "member3['djsj'] = pd.to_datetime(member3['djsj'])\n",
    "order2['dtime'] = pd.to_datetime(order2['dtime'])"
   ]
  },
  {
   "cell_type": "code",
   "execution_count": 19,
   "metadata": {},
   "outputs": [
    {
     "name": "stdout",
     "output_type": "stream",
     "text": [
      "出生年份最大值与最小值: 2195 1753\n"
     ]
    }
   ],
   "source": [
    "# 探索日期数据有无业务上的异常值\n",
    "#出生日期\n",
    "csrq_yearlist = member3['csrq'].apply(lambda x:x.year)\n",
    "\n",
    "print('出生年份最大值与最小值:',np.max(csrq_yearlist),np.min(csrq_yearlist))"
   ]
  },
  {
   "cell_type": "markdown",
   "metadata": {},
   "source": [
    "显然出生年份存在异常值，需要过滤,设定正常出生日期介于1920年-2010年"
   ]
  },
  {
   "cell_type": "code",
   "execution_count": 20,
   "metadata": {},
   "outputs": [],
   "source": [
    "csrq_nor = member3['csrq'].apply(lambda x:x.year <= 2010 and x.year >= 1920)\n",
    "member3 = member3[csrq_nor]\n",
    "# 重置索引\n",
    "member3.reset_index(inplace = True)\n",
    "member3.drop(axis = 1,columns = 'index',inplace = True)"
   ]
  },
  {
   "cell_type": "code",
   "execution_count": 21,
   "metadata": {},
   "outputs": [
    {
     "name": "stdout",
     "output_type": "stream",
     "text": [
      "出生年份最大值与最小值: 2010 1920\n"
     ]
    }
   ],
   "source": [
    "csrq_yearlist_mod = member3['csrq'].apply(lambda x:x.year)\n",
    "print('出生年份最大值与最小值:',np.max(csrq_yearlist_mod),np.min(csrq_yearlist_mod))"
   ]
  },
  {
   "cell_type": "code",
   "execution_count": 22,
   "metadata": {},
   "outputs": [],
   "source": [
    "#入会时间\n",
    "djsj_yearlist = member3['djsj'].apply(lambda x:x.year)"
   ]
  },
  {
   "cell_type": "code",
   "execution_count": 23,
   "metadata": {},
   "outputs": [
    {
     "name": "stdout",
     "output_type": "stream",
     "text": [
      "入会时间最大值与最小值: 2080 1900\n"
     ]
    }
   ],
   "source": [
    "print('入会时间最大值与最小值:',np.max(djsj_yearlist),np.min(djsj_yearlist))"
   ]
  },
  {
   "cell_type": "markdown",
   "metadata": {},
   "source": [
    "入会时间同样存在异常数据"
   ]
  },
  {
   "cell_type": "code",
   "execution_count": 29,
   "metadata": {},
   "outputs": [
    {
     "data": {
      "text/html": [
       "<div>\n",
       "<style scoped>\n",
       "    .dataframe tbody tr th:only-of-type {\n",
       "        vertical-align: middle;\n",
       "    }\n",
       "\n",
       "    .dataframe tbody tr th {\n",
       "        vertical-align: top;\n",
       "    }\n",
       "\n",
       "    .dataframe thead th {\n",
       "        text-align: right;\n",
       "    }\n",
       "</style>\n",
       "<table border=\"1\" class=\"dataframe\">\n",
       "  <thead>\n",
       "    <tr style=\"text-align: right;\">\n",
       "      <th></th>\n",
       "      <th>kh</th>\n",
       "      <th>csrq</th>\n",
       "      <th>xb</th>\n",
       "      <th>djsj</th>\n",
       "    </tr>\n",
       "  </thead>\n",
       "  <tbody>\n",
       "    <tr>\n",
       "      <th>105900</th>\n",
       "      <td>91d64726</td>\n",
       "      <td>1967-02-18</td>\n",
       "      <td>0.0</td>\n",
       "      <td>1900-01-01</td>\n",
       "    </tr>\n",
       "  </tbody>\n",
       "</table>\n",
       "</div>"
      ],
      "text/plain": [
       "              kh       csrq   xb       djsj\n",
       "105900  91d64726 1967-02-18  0.0 1900-01-01"
      ]
     },
     "execution_count": 29,
     "metadata": {},
     "output_type": "execute_result"
    }
   ],
   "source": [
    "member3[djsj_yearlist < 2000]"
   ]
  },
  {
   "cell_type": "code",
   "execution_count": 30,
   "metadata": {},
   "outputs": [
    {
     "data": {
      "text/html": [
       "<div>\n",
       "<style scoped>\n",
       "    .dataframe tbody tr th:only-of-type {\n",
       "        vertical-align: middle;\n",
       "    }\n",
       "\n",
       "    .dataframe tbody tr th {\n",
       "        vertical-align: top;\n",
       "    }\n",
       "\n",
       "    .dataframe thead th {\n",
       "        text-align: right;\n",
       "    }\n",
       "</style>\n",
       "<table border=\"1\" class=\"dataframe\">\n",
       "  <thead>\n",
       "    <tr style=\"text-align: right;\">\n",
       "      <th></th>\n",
       "      <th>kh</th>\n",
       "      <th>csrq</th>\n",
       "      <th>xb</th>\n",
       "      <th>djsj</th>\n",
       "    </tr>\n",
       "  </thead>\n",
       "  <tbody>\n",
       "    <tr>\n",
       "      <th>8237</th>\n",
       "      <td>e26e252c</td>\n",
       "      <td>1978-10-22</td>\n",
       "      <td>0.0</td>\n",
       "      <td>2080-07-03</td>\n",
       "    </tr>\n",
       "    <tr>\n",
       "      <th>107182</th>\n",
       "      <td>b66b4508</td>\n",
       "      <td>1981-10-17</td>\n",
       "      <td>0.0</td>\n",
       "      <td>2080-01-17</td>\n",
       "    </tr>\n",
       "  </tbody>\n",
       "</table>\n",
       "</div>"
      ],
      "text/plain": [
       "              kh       csrq   xb       djsj\n",
       "8237    e26e252c 1978-10-22  0.0 2080-07-03\n",
       "107182  b66b4508 1981-10-17  0.0 2080-01-17"
      ]
     },
     "execution_count": 30,
     "metadata": {},
     "output_type": "execute_result"
    }
   ],
   "source": [
    "member3[djsj_yearlist > 2019]"
   ]
  },
  {
   "cell_type": "code",
   "execution_count": 31,
   "metadata": {},
   "outputs": [],
   "source": [
    "djsj_nor = member3['djsj'].apply(lambda x:x.year <= 2019 and x.year >= 2000)\n",
    "member3 = member3[djsj_nor]\n",
    "# 重置索引\n",
    "member3.reset_index(inplace = True)\n",
    "member3.drop(axis = 1,columns = 'index',inplace = True)"
   ]
  },
  {
   "cell_type": "code",
   "execution_count": 32,
   "metadata": {},
   "outputs": [
    {
     "name": "stdout",
     "output_type": "stream",
     "text": [
      "入会时间最大值与最小值: 2018 2002\n"
     ]
    }
   ],
   "source": [
    "djsj_yearlist_mod = member3['djsj'].apply(lambda x:x.year)\n",
    "print('入会时间最大值与最小值:',np.max(djsj_yearlist_mod),np.min(djsj_yearlist_mod))"
   ]
  },
  {
   "cell_type": "markdown",
   "metadata": {},
   "source": [
    "正常入会时间，最早为2002，最晚为2018"
   ]
  },
  {
   "cell_type": "code",
   "execution_count": 33,
   "metadata": {},
   "outputs": [],
   "source": [
    "# 销售流水表\n",
    "dtime_yearlist = order2['dtime'].apply(lambda x:x.year)"
   ]
  },
  {
   "cell_type": "code",
   "execution_count": 34,
   "metadata": {},
   "outputs": [
    {
     "name": "stdout",
     "output_type": "stream",
     "text": [
      "销售年份时间最大值与最小值: 2018 2015\n"
     ]
    }
   ],
   "source": [
    "print('销售年份时间最大值与最小值:',np.max(dtime_yearlist),np.min(dtime_yearlist))"
   ]
  },
  {
   "cell_type": "markdown",
   "metadata": {},
   "source": [
    "销售年份时间正常"
   ]
  },
  {
   "cell_type": "markdown",
   "metadata": {},
   "source": [
    "处理销售金额异常数据"
   ]
  },
  {
   "cell_type": "code",
   "execution_count": 35,
   "metadata": {},
   "outputs": [
    {
     "data": {
      "text/html": [
       "<div>\n",
       "<style scoped>\n",
       "    .dataframe tbody tr th:only-of-type {\n",
       "        vertical-align: middle;\n",
       "    }\n",
       "\n",
       "    .dataframe tbody tr th {\n",
       "        vertical-align: top;\n",
       "    }\n",
       "\n",
       "    .dataframe thead th {\n",
       "        text-align: right;\n",
       "    }\n",
       "</style>\n",
       "<table border=\"1\" class=\"dataframe\">\n",
       "  <thead>\n",
       "    <tr style=\"text-align: right;\">\n",
       "      <th></th>\n",
       "      <th>sl</th>\n",
       "      <th>sj</th>\n",
       "      <th>je</th>\n",
       "      <th>jf</th>\n",
       "      <th>syjh</th>\n",
       "      <th>gzbm</th>\n",
       "    </tr>\n",
       "  </thead>\n",
       "  <tbody>\n",
       "    <tr>\n",
       "      <th>count</th>\n",
       "      <td>1.893532e+06</td>\n",
       "      <td>1.893532e+06</td>\n",
       "      <td>1.893532e+06</td>\n",
       "      <td>876046.000000</td>\n",
       "      <td>1.893532e+06</td>\n",
       "      <td>876046.000000</td>\n",
       "    </tr>\n",
       "    <tr>\n",
       "      <th>mean</th>\n",
       "      <td>1.060906e+00</td>\n",
       "      <td>1.093785e+03</td>\n",
       "      <td>1.047361e+03</td>\n",
       "      <td>1035.463948</td>\n",
       "      <td>1.002693e+02</td>\n",
       "      <td>6328.248018</td>\n",
       "    </tr>\n",
       "    <tr>\n",
       "      <th>std</th>\n",
       "      <td>2.483580e+00</td>\n",
       "      <td>2.582808e+03</td>\n",
       "      <td>2.697462e+03</td>\n",
       "      <td>2064.978604</td>\n",
       "      <td>6.689405e+01</td>\n",
       "      <td>2371.230147</td>\n",
       "    </tr>\n",
       "    <tr>\n",
       "      <th>min</th>\n",
       "      <td>-3.810000e+02</td>\n",
       "      <td>1.000000e-01</td>\n",
       "      <td>-6.712575e+05</td>\n",
       "      <td>-201616.000000</td>\n",
       "      <td>1.000000e+00</td>\n",
       "      <td>0.000000</td>\n",
       "    </tr>\n",
       "    <tr>\n",
       "      <th>25%</th>\n",
       "      <td>1.000000e+00</td>\n",
       "      <td>3.200000e+02</td>\n",
       "      <td>3.100000e+02</td>\n",
       "      <td>180.000000</td>\n",
       "      <td>8.700000e+01</td>\n",
       "      <td>4334.000000</td>\n",
       "    </tr>\n",
       "    <tr>\n",
       "      <th>50%</th>\n",
       "      <td>1.000000e+00</td>\n",
       "      <td>5.700000e+02</td>\n",
       "      <td>5.640000e+02</td>\n",
       "      <td>510.000000</td>\n",
       "      <td>9.400000e+01</td>\n",
       "      <td>8064.000000</td>\n",
       "    </tr>\n",
       "    <tr>\n",
       "      <th>75%</th>\n",
       "      <td>1.000000e+00</td>\n",
       "      <td>1.100000e+03</td>\n",
       "      <td>1.098000e+03</td>\n",
       "      <td>1259.000000</td>\n",
       "      <td>1.010000e+02</td>\n",
       "      <td>8123.000000</td>\n",
       "    </tr>\n",
       "    <tr>\n",
       "      <th>max</th>\n",
       "      <td>1.492000e+03</td>\n",
       "      <td>1.342515e+06</td>\n",
       "      <td>1.342515e+06</td>\n",
       "      <td>268503.000000</td>\n",
       "      <td>3.200000e+02</td>\n",
       "      <td>9005.000000</td>\n",
       "    </tr>\n",
       "  </tbody>\n",
       "</table>\n",
       "</div>"
      ],
      "text/plain": [
       "                 sl            sj            je             jf          syjh  \\\n",
       "count  1.893532e+06  1.893532e+06  1.893532e+06  876046.000000  1.893532e+06   \n",
       "mean   1.060906e+00  1.093785e+03  1.047361e+03    1035.463948  1.002693e+02   \n",
       "std    2.483580e+00  2.582808e+03  2.697462e+03    2064.978604  6.689405e+01   \n",
       "min   -3.810000e+02  1.000000e-01 -6.712575e+05 -201616.000000  1.000000e+00   \n",
       "25%    1.000000e+00  3.200000e+02  3.100000e+02     180.000000  8.700000e+01   \n",
       "50%    1.000000e+00  5.700000e+02  5.640000e+02     510.000000  9.400000e+01   \n",
       "75%    1.000000e+00  1.100000e+03  1.098000e+03    1259.000000  1.010000e+02   \n",
       "max    1.492000e+03  1.342515e+06  1.342515e+06  268503.000000  3.200000e+02   \n",
       "\n",
       "                gzbm  \n",
       "count  876046.000000  \n",
       "mean     6328.248018  \n",
       "std      2371.230147  \n",
       "min         0.000000  \n",
       "25%      4334.000000  \n",
       "50%      8064.000000  \n",
       "75%      8123.000000  \n",
       "max      9005.000000  "
      ]
     },
     "execution_count": 35,
     "metadata": {},
     "output_type": "execute_result"
    }
   ],
   "source": [
    "order2.describe()"
   ]
  },
  {
   "cell_type": "markdown",
   "metadata": {},
   "source": [
    "销售数量,销售金额和积分存在负值,将其删除"
   ]
  },
  {
   "cell_type": "code",
   "execution_count": 25,
   "metadata": {},
   "outputs": [],
   "source": [
    "order3 = order2[order2['sl'] > 0]\n",
    "order3 = order3[order3['je'] >= 0]\n",
    "#积分非会员的部分为NaN，防止将其误删\n",
    "order3 = order3[order3['jf'].apply(lambda x:not(x < 0))]\n",
    "# 重置索引\n",
    "order3.reset_index(inplace = True)\n",
    "order3.drop(axis = 1,columns = 'index',inplace = True)"
   ]
  },
  {
   "cell_type": "code",
   "execution_count": 26,
   "metadata": {},
   "outputs": [
    {
     "name": "stdout",
     "output_type": "stream",
     "text": [
      "删除的销售流水表异常数据量为：26884\n"
     ]
    }
   ],
   "source": [
    "#print(len(order2),len(order3))\n",
    "print('删除的销售流水表异常数据量为：%d'%(len(order2) -len(order3)))"
   ]
  },
  {
   "cell_type": "code",
   "execution_count": 38,
   "metadata": {},
   "outputs": [
    {
     "data": {
      "text/html": [
       "<div>\n",
       "<style scoped>\n",
       "    .dataframe tbody tr th:only-of-type {\n",
       "        vertical-align: middle;\n",
       "    }\n",
       "\n",
       "    .dataframe tbody tr th {\n",
       "        vertical-align: top;\n",
       "    }\n",
       "\n",
       "    .dataframe thead th {\n",
       "        text-align: right;\n",
       "    }\n",
       "</style>\n",
       "<table border=\"1\" class=\"dataframe\">\n",
       "  <thead>\n",
       "    <tr style=\"text-align: right;\">\n",
       "      <th></th>\n",
       "      <th>sl</th>\n",
       "      <th>sj</th>\n",
       "      <th>je</th>\n",
       "      <th>jf</th>\n",
       "      <th>syjh</th>\n",
       "      <th>gzbm</th>\n",
       "    </tr>\n",
       "  </thead>\n",
       "  <tbody>\n",
       "    <tr>\n",
       "      <th>count</th>\n",
       "      <td>1.866648e+06</td>\n",
       "      <td>1.866648e+06</td>\n",
       "      <td>1.866648e+06</td>\n",
       "      <td>869012.000000</td>\n",
       "      <td>1.866648e+06</td>\n",
       "      <td>869012.000000</td>\n",
       "    </tr>\n",
       "    <tr>\n",
       "      <th>mean</th>\n",
       "      <td>1.098031e+00</td>\n",
       "      <td>1.086410e+03</td>\n",
       "      <td>1.088572e+03</td>\n",
       "      <td>1060.017791</td>\n",
       "      <td>1.000142e+02</td>\n",
       "      <td>6337.096189</td>\n",
       "    </tr>\n",
       "    <tr>\n",
       "      <th>std</th>\n",
       "      <td>2.305768e+00</td>\n",
       "      <td>2.473873e+03</td>\n",
       "      <td>2.542066e+03</td>\n",
       "      <td>2008.289584</td>\n",
       "      <td>6.672042e+01</td>\n",
       "      <td>2368.315911</td>\n",
       "    </tr>\n",
       "    <tr>\n",
       "      <th>min</th>\n",
       "      <td>1.000000e+00</td>\n",
       "      <td>1.000000e-01</td>\n",
       "      <td>0.000000e+00</td>\n",
       "      <td>0.000000</td>\n",
       "      <td>1.000000e+00</td>\n",
       "      <td>0.000000</td>\n",
       "    </tr>\n",
       "    <tr>\n",
       "      <th>25%</th>\n",
       "      <td>1.000000e+00</td>\n",
       "      <td>3.200000e+02</td>\n",
       "      <td>3.200000e+02</td>\n",
       "      <td>192.000000</td>\n",
       "      <td>8.700000e+01</td>\n",
       "      <td>4334.000000</td>\n",
       "    </tr>\n",
       "    <tr>\n",
       "      <th>50%</th>\n",
       "      <td>1.000000e+00</td>\n",
       "      <td>5.700000e+02</td>\n",
       "      <td>5.750000e+02</td>\n",
       "      <td>520.000000</td>\n",
       "      <td>9.400000e+01</td>\n",
       "      <td>8064.000000</td>\n",
       "    </tr>\n",
       "    <tr>\n",
       "      <th>75%</th>\n",
       "      <td>1.000000e+00</td>\n",
       "      <td>1.100000e+03</td>\n",
       "      <td>1.103000e+03</td>\n",
       "      <td>1272.000000</td>\n",
       "      <td>1.010000e+02</td>\n",
       "      <td>8123.000000</td>\n",
       "    </tr>\n",
       "    <tr>\n",
       "      <th>max</th>\n",
       "      <td>1.492000e+03</td>\n",
       "      <td>1.342515e+06</td>\n",
       "      <td>1.342515e+06</td>\n",
       "      <td>268503.000000</td>\n",
       "      <td>3.200000e+02</td>\n",
       "      <td>9005.000000</td>\n",
       "    </tr>\n",
       "  </tbody>\n",
       "</table>\n",
       "</div>"
      ],
      "text/plain": [
       "                 sl            sj            je             jf          syjh  \\\n",
       "count  1.866648e+06  1.866648e+06  1.866648e+06  869012.000000  1.866648e+06   \n",
       "mean   1.098031e+00  1.086410e+03  1.088572e+03    1060.017791  1.000142e+02   \n",
       "std    2.305768e+00  2.473873e+03  2.542066e+03    2008.289584  6.672042e+01   \n",
       "min    1.000000e+00  1.000000e-01  0.000000e+00       0.000000  1.000000e+00   \n",
       "25%    1.000000e+00  3.200000e+02  3.200000e+02     192.000000  8.700000e+01   \n",
       "50%    1.000000e+00  5.700000e+02  5.750000e+02     520.000000  9.400000e+01   \n",
       "75%    1.000000e+00  1.100000e+03  1.103000e+03    1272.000000  1.010000e+02   \n",
       "max    1.492000e+03  1.342515e+06  1.342515e+06  268503.000000  3.200000e+02   \n",
       "\n",
       "                gzbm  \n",
       "count  869012.000000  \n",
       "mean     6337.096189  \n",
       "std      2368.315911  \n",
       "min         0.000000  \n",
       "25%      4334.000000  \n",
       "50%      8064.000000  \n",
       "75%      8123.000000  \n",
       "max      9005.000000  "
      ]
     },
     "execution_count": 38,
     "metadata": {},
     "output_type": "execute_result"
    }
   ],
   "source": [
    "order3.describe()"
   ]
  },
  {
   "cell_type": "code",
   "execution_count": 39,
   "metadata": {},
   "outputs": [
    {
     "data": {
      "text/html": [
       "<div>\n",
       "<style scoped>\n",
       "    .dataframe tbody tr th:only-of-type {\n",
       "        vertical-align: middle;\n",
       "    }\n",
       "\n",
       "    .dataframe tbody tr th {\n",
       "        vertical-align: top;\n",
       "    }\n",
       "\n",
       "    .dataframe thead th {\n",
       "        text-align: right;\n",
       "    }\n",
       "</style>\n",
       "<table border=\"1\" class=\"dataframe\">\n",
       "  <thead>\n",
       "    <tr style=\"text-align: right;\">\n",
       "      <th></th>\n",
       "      <th>kh</th>\n",
       "      <th>dtime</th>\n",
       "      <th>spbm</th>\n",
       "      <th>sl</th>\n",
       "      <th>sj</th>\n",
       "      <th>je</th>\n",
       "      <th>spmc</th>\n",
       "      <th>jf</th>\n",
       "      <th>syjh</th>\n",
       "      <th>djh</th>\n",
       "      <th>gzbm</th>\n",
       "      <th>gzmc</th>\n",
       "    </tr>\n",
       "  </thead>\n",
       "  <tbody>\n",
       "    <tr>\n",
       "      <th>1555375</th>\n",
       "      <td>11a77271</td>\n",
       "      <td>2017-07-03 13:26:11.250</td>\n",
       "      <td>d72de91e</td>\n",
       "      <td>1</td>\n",
       "      <td>1342515.0</td>\n",
       "      <td>1342515.0</td>\n",
       "      <td>欧米伽.</td>\n",
       "      <td>268503.0</td>\n",
       "      <td>101</td>\n",
       "      <td>0e7e</td>\n",
       "      <td>8078.0</td>\n",
       "      <td>瑞士钟表柜</td>\n",
       "    </tr>\n",
       "  </tbody>\n",
       "</table>\n",
       "</div>"
      ],
      "text/plain": [
       "               kh                   dtime      spbm  sl         sj         je  \\\n",
       "1555375  11a77271 2017-07-03 13:26:11.250  d72de91e   1  1342515.0  1342515.0   \n",
       "\n",
       "         spmc        jf  syjh   djh    gzbm   gzmc  \n",
       "1555375  欧米伽.  268503.0   101  0e7e  8078.0  瑞士钟表柜  "
      ]
     },
     "execution_count": 39,
     "metadata": {},
     "output_type": "execute_result"
    }
   ],
   "source": [
    "order3[order3['je'] == np.max(order3['je'])]"
   ]
  },
  {
   "cell_type": "markdown",
   "metadata": {},
   "source": [
    "保存预处理的会员信息表与销售流水表"
   ]
  },
  {
   "cell_type": "code",
   "execution_count": 40,
   "metadata": {},
   "outputs": [],
   "source": [
    "member3.to_csv('temp/member_pre.csv',index = False)\n",
    "order3.to_csv('temp/order_pre.csv',index = False)"
   ]
  },
  {
   "cell_type": "markdown",
   "metadata": {},
   "source": [
    "## 任务1.2将会员信息表与销售流水表关联合并"
   ]
  },
  {
   "cell_type": "code",
   "execution_count": 41,
   "metadata": {},
   "outputs": [],
   "source": [
    "task1 = pd.merge(member3, order3, how = 'outer', on = 'kh')"
   ]
  },
  {
   "cell_type": "code",
   "execution_count": 42,
   "metadata": {},
   "outputs": [
    {
     "data": {
      "text/html": [
       "<div>\n",
       "<style scoped>\n",
       "    .dataframe tbody tr th:only-of-type {\n",
       "        vertical-align: middle;\n",
       "    }\n",
       "\n",
       "    .dataframe tbody tr th {\n",
       "        vertical-align: top;\n",
       "    }\n",
       "\n",
       "    .dataframe thead th {\n",
       "        text-align: right;\n",
       "    }\n",
       "</style>\n",
       "<table border=\"1\" class=\"dataframe\">\n",
       "  <thead>\n",
       "    <tr style=\"text-align: right;\">\n",
       "      <th></th>\n",
       "      <th>kh</th>\n",
       "      <th>csrq</th>\n",
       "      <th>xb</th>\n",
       "      <th>djsj</th>\n",
       "      <th>dtime</th>\n",
       "      <th>spbm</th>\n",
       "      <th>sl</th>\n",
       "      <th>sj</th>\n",
       "      <th>je</th>\n",
       "      <th>spmc</th>\n",
       "      <th>jf</th>\n",
       "      <th>syjh</th>\n",
       "      <th>djh</th>\n",
       "      <th>gzbm</th>\n",
       "      <th>gzmc</th>\n",
       "    </tr>\n",
       "  </thead>\n",
       "  <tbody>\n",
       "    <tr>\n",
       "      <th>0</th>\n",
       "      <td>c68b20b4</td>\n",
       "      <td>2002-11-02</td>\n",
       "      <td>0.0</td>\n",
       "      <td>2013-05-11 00:00:00.000</td>\n",
       "      <td>NaT</td>\n",
       "      <td>NaN</td>\n",
       "      <td>NaN</td>\n",
       "      <td>NaN</td>\n",
       "      <td>NaN</td>\n",
       "      <td>NaN</td>\n",
       "      <td>NaN</td>\n",
       "      <td>NaN</td>\n",
       "      <td>NaN</td>\n",
       "      <td>NaN</td>\n",
       "      <td>NaN</td>\n",
       "    </tr>\n",
       "    <tr>\n",
       "      <th>1</th>\n",
       "      <td>a37cc182</td>\n",
       "      <td>1967-02-17</td>\n",
       "      <td>0.0</td>\n",
       "      <td>2004-12-31 21:24:34.216</td>\n",
       "      <td>2016-09-25 10:49:14.016</td>\n",
       "      <td>d62a69e3</td>\n",
       "      <td>1.0</td>\n",
       "      <td>499.0</td>\n",
       "      <td>297.07</td>\n",
       "      <td>WMF D无</td>\n",
       "      <td>297.08</td>\n",
       "      <td>101.0</td>\n",
       "      <td>7cd8</td>\n",
       "      <td>7296.0</td>\n",
       "      <td>WMF 柜</td>\n",
       "    </tr>\n",
       "    <tr>\n",
       "      <th>2</th>\n",
       "      <td>a37cc182</td>\n",
       "      <td>1967-02-17</td>\n",
       "      <td>0.0</td>\n",
       "      <td>2004-12-31 21:24:34.216</td>\n",
       "      <td>2016-09-25 10:49:14.016</td>\n",
       "      <td>d62a69e3</td>\n",
       "      <td>1.0</td>\n",
       "      <td>12288.0</td>\n",
       "      <td>11089.93</td>\n",
       "      <td>WMF D无</td>\n",
       "      <td>11089.92</td>\n",
       "      <td>101.0</td>\n",
       "      <td>7cd8</td>\n",
       "      <td>7296.0</td>\n",
       "      <td>WMF 柜</td>\n",
       "    </tr>\n",
       "    <tr>\n",
       "      <th>3</th>\n",
       "      <td>a37cc182</td>\n",
       "      <td>1967-02-17</td>\n",
       "      <td>0.0</td>\n",
       "      <td>2004-12-31 21:24:34.216</td>\n",
       "      <td>2017-02-28 17:17:35.533</td>\n",
       "      <td>252403ef</td>\n",
       "      <td>1.0</td>\n",
       "      <td>598.0</td>\n",
       "      <td>598.00</td>\n",
       "      <td>双立人商品 F无</td>\n",
       "      <td>598.00</td>\n",
       "      <td>102.0</td>\n",
       "      <td>ed0a</td>\n",
       "      <td>7242.0</td>\n",
       "      <td>双立人柜</td>\n",
       "    </tr>\n",
       "    <tr>\n",
       "      <th>4</th>\n",
       "      <td>2ab88539</td>\n",
       "      <td>1982-06-01</td>\n",
       "      <td>0.0</td>\n",
       "      <td>2010-11-19 00:00:00.000</td>\n",
       "      <td>NaT</td>\n",
       "      <td>NaN</td>\n",
       "      <td>NaN</td>\n",
       "      <td>NaN</td>\n",
       "      <td>NaN</td>\n",
       "      <td>NaN</td>\n",
       "      <td>NaN</td>\n",
       "      <td>NaN</td>\n",
       "      <td>NaN</td>\n",
       "      <td>NaN</td>\n",
       "      <td>NaN</td>\n",
       "    </tr>\n",
       "  </tbody>\n",
       "</table>\n",
       "</div>"
      ],
      "text/plain": [
       "         kh       csrq   xb                    djsj                   dtime  \\\n",
       "0  c68b20b4 2002-11-02  0.0 2013-05-11 00:00:00.000                     NaT   \n",
       "1  a37cc182 1967-02-17  0.0 2004-12-31 21:24:34.216 2016-09-25 10:49:14.016   \n",
       "2  a37cc182 1967-02-17  0.0 2004-12-31 21:24:34.216 2016-09-25 10:49:14.016   \n",
       "3  a37cc182 1967-02-17  0.0 2004-12-31 21:24:34.216 2017-02-28 17:17:35.533   \n",
       "4  2ab88539 1982-06-01  0.0 2010-11-19 00:00:00.000                     NaT   \n",
       "\n",
       "       spbm   sl       sj        je      spmc        jf   syjh   djh    gzbm  \\\n",
       "0       NaN  NaN      NaN       NaN       NaN       NaN    NaN   NaN     NaN   \n",
       "1  d62a69e3  1.0    499.0    297.07    WMF D无    297.08  101.0  7cd8  7296.0   \n",
       "2  d62a69e3  1.0  12288.0  11089.93    WMF D无  11089.92  101.0  7cd8  7296.0   \n",
       "3  252403ef  1.0    598.0    598.00  双立人商品 F无    598.00  102.0  ed0a  7242.0   \n",
       "4       NaN  NaN      NaN       NaN       NaN       NaN    NaN   NaN     NaN   \n",
       "\n",
       "    gzmc  \n",
       "0    NaN  \n",
       "1  WMF 柜  \n",
       "2  WMF 柜  \n",
       "3   双立人柜  \n",
       "4    NaN  "
      ]
     },
     "execution_count": 42,
     "metadata": {},
     "output_type": "execute_result"
    }
   ],
   "source": [
    "#包含本店入会会员的销售记录，非本门店入会会员的销售记录（无入会信息），非会员销售记录（无卡号记录）\n",
    "task1.head()"
   ]
  },
  {
   "cell_type": "code",
   "execution_count": 43,
   "metadata": {},
   "outputs": [
    {
     "data": {
      "text/plain": [
       "1971598"
      ]
     },
     "execution_count": 43,
     "metadata": {},
     "output_type": "execute_result"
    }
   ],
   "source": [
    "len(task1)"
   ]
  },
  {
   "cell_type": "code",
   "execution_count": 44,
   "metadata": {},
   "outputs": [],
   "source": [
    "task1.to_csv('temp/task1.csv',index = False)"
   ]
  },
  {
   "cell_type": "code",
   "execution_count": null,
   "metadata": {},
   "outputs": [],
   "source": []
  },
  {
   "cell_type": "code",
   "execution_count": null,
   "metadata": {},
   "outputs": [],
   "source": []
  }
 ],
 "metadata": {
  "kernelspec": {
   "display_name": "Python 3",
   "language": "python",
   "name": "python3"
  },
  "language_info": {
   "codemirror_mode": {
    "name": "ipython",
    "version": 3
   },
   "file_extension": ".py",
   "mimetype": "text/x-python",
   "name": "python",
   "nbconvert_exporter": "python",
   "pygments_lexer": "ipython3",
   "version": "3.6.2"
  }
 },
 "nbformat": 4,
 "nbformat_minor": 2
}
