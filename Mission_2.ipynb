{
 "cells": [
  {
   "cell_type": "code",
   "execution_count": 1,
   "metadata": {},
   "outputs": [],
   "source": [
    "import numpy as np\n",
    "import pandas as pd\n",
    "import matplotlib.pyplot as plt"
   ]
  },
  {
   "cell_type": "markdown",
   "metadata": {},
   "source": [
    "# 任务2.1分析会员年龄构成，男女比例等基本信息 "
   ]
  },
  {
   "cell_type": "code",
   "execution_count": 2,
   "metadata": {},
   "outputs": [],
   "source": [
    "# 读取预处理后的会员信息表\n",
    "member = pd.read_csv('temp/member_pre.csv')"
   ]
  },
  {
   "cell_type": "code",
   "execution_count": 3,
   "metadata": {},
   "outputs": [],
   "source": [
    "# 将日期转换为datetime格式\n",
    "member['csrq'] = pd.to_datetime(member['csrq'])\n",
    "member['djsj'] = pd.to_datetime(member['djsj'])"
   ]
  },
  {
   "cell_type": "markdown",
   "metadata": {},
   "source": [
    "统计会员的年龄构成"
   ]
  },
  {
   "cell_type": "code",
   "execution_count": 4,
   "metadata": {},
   "outputs": [],
   "source": [
    "# 将会员的出生日期转换为年龄（以虚岁算）\n",
    "member['nl'] = member['csrq'].apply(lambda x:2018 - x.year)"
   ]
  },
  {
   "cell_type": "code",
   "execution_count": 5,
   "metadata": {},
   "outputs": [
    {
     "data": {
      "text/plain": [
       "count    136311.000000\n",
       "mean         41.496864\n",
       "std          10.335766\n",
       "min           8.000000\n",
       "25%          33.000000\n",
       "50%          41.000000\n",
       "75%          49.000000\n",
       "max          98.000000\n",
       "Name: nl, dtype: float64"
      ]
     },
     "execution_count": 5,
     "metadata": {},
     "output_type": "execute_result"
    }
   ],
   "source": [
    "member['nl'].describe()"
   ]
  },
  {
   "cell_type": "code",
   "execution_count": 6,
   "metadata": {},
   "outputs": [],
   "source": [
    "# 将年龄段离散化,0-39岁为青年,40-59岁为中年，60岁以上为老年\n",
    "bins = [np.min(member['nl'].values), 40, 60, np.max(member['nl'].values) + 1]\n",
    "labels = ['青年','中年','老年']\n",
    "member['nld'] = pd.cut(member['nl'],bins = bins,labels = ['青年','中年','老年'])"
   ]
  },
  {
   "cell_type": "code",
   "execution_count": 7,
   "metadata": {},
   "outputs": [
    {
     "data": {
      "text/html": [
       "<div>\n",
       "<style scoped>\n",
       "    .dataframe tbody tr th:only-of-type {\n",
       "        vertical-align: middle;\n",
       "    }\n",
       "\n",
       "    .dataframe tbody tr th {\n",
       "        vertical-align: top;\n",
       "    }\n",
       "\n",
       "    .dataframe thead th {\n",
       "        text-align: right;\n",
       "    }\n",
       "</style>\n",
       "<table border=\"1\" class=\"dataframe\">\n",
       "  <thead>\n",
       "    <tr style=\"text-align: right;\">\n",
       "      <th></th>\n",
       "      <th>kh</th>\n",
       "      <th>csrq</th>\n",
       "      <th>xb</th>\n",
       "      <th>djsj</th>\n",
       "      <th>nl</th>\n",
       "      <th>nld</th>\n",
       "    </tr>\n",
       "  </thead>\n",
       "  <tbody>\n",
       "    <tr>\n",
       "      <th>0</th>\n",
       "      <td>c68b20b4</td>\n",
       "      <td>2002-11-02</td>\n",
       "      <td>0.0</td>\n",
       "      <td>2013-05-11 00:00:00.000</td>\n",
       "      <td>16</td>\n",
       "      <td>青年</td>\n",
       "    </tr>\n",
       "    <tr>\n",
       "      <th>1</th>\n",
       "      <td>a37cc182</td>\n",
       "      <td>1967-02-17</td>\n",
       "      <td>0.0</td>\n",
       "      <td>2004-12-31 21:24:34.216</td>\n",
       "      <td>51</td>\n",
       "      <td>中年</td>\n",
       "    </tr>\n",
       "    <tr>\n",
       "      <th>2</th>\n",
       "      <td>2ab88539</td>\n",
       "      <td>1982-06-01</td>\n",
       "      <td>0.0</td>\n",
       "      <td>2010-11-19 00:00:00.000</td>\n",
       "      <td>36</td>\n",
       "      <td>青年</td>\n",
       "    </tr>\n",
       "    <tr>\n",
       "      <th>3</th>\n",
       "      <td>b4c77269</td>\n",
       "      <td>1964-02-05</td>\n",
       "      <td>0.0</td>\n",
       "      <td>2007-12-14 00:00:00.000</td>\n",
       "      <td>54</td>\n",
       "      <td>中年</td>\n",
       "    </tr>\n",
       "    <tr>\n",
       "      <th>4</th>\n",
       "      <td>83a91070</td>\n",
       "      <td>1968-06-18</td>\n",
       "      <td>1.0</td>\n",
       "      <td>2004-05-01 16:50:13.950</td>\n",
       "      <td>50</td>\n",
       "      <td>中年</td>\n",
       "    </tr>\n",
       "    <tr>\n",
       "      <th>5</th>\n",
       "      <td>34c2dc93</td>\n",
       "      <td>1986-07-18</td>\n",
       "      <td>0.0</td>\n",
       "      <td>2007-04-19 00:00:00.000</td>\n",
       "      <td>32</td>\n",
       "      <td>青年</td>\n",
       "    </tr>\n",
       "    <tr>\n",
       "      <th>6</th>\n",
       "      <td>a2e649aa</td>\n",
       "      <td>1960-07-13</td>\n",
       "      <td>0.0</td>\n",
       "      <td>2007-12-01 00:00:00.000</td>\n",
       "      <td>58</td>\n",
       "      <td>中年</td>\n",
       "    </tr>\n",
       "    <tr>\n",
       "      <th>7</th>\n",
       "      <td>54c044af</td>\n",
       "      <td>1982-06-22</td>\n",
       "      <td>0.0</td>\n",
       "      <td>2005-09-10 13:36:45.146</td>\n",
       "      <td>36</td>\n",
       "      <td>青年</td>\n",
       "    </tr>\n",
       "    <tr>\n",
       "      <th>8</th>\n",
       "      <td>828aa9b4</td>\n",
       "      <td>1951-12-29</td>\n",
       "      <td>0.0</td>\n",
       "      <td>2004-09-24 16:39:08.716</td>\n",
       "      <td>67</td>\n",
       "      <td>老年</td>\n",
       "    </tr>\n",
       "    <tr>\n",
       "      <th>9</th>\n",
       "      <td>2bde7c95</td>\n",
       "      <td>1978-04-16</td>\n",
       "      <td>0.0</td>\n",
       "      <td>2008-11-06 00:00:00.000</td>\n",
       "      <td>40</td>\n",
       "      <td>青年</td>\n",
       "    </tr>\n",
       "  </tbody>\n",
       "</table>\n",
       "</div>"
      ],
      "text/plain": [
       "         kh       csrq   xb                    djsj  nl nld\n",
       "0  c68b20b4 2002-11-02  0.0 2013-05-11 00:00:00.000  16  青年\n",
       "1  a37cc182 1967-02-17  0.0 2004-12-31 21:24:34.216  51  中年\n",
       "2  2ab88539 1982-06-01  0.0 2010-11-19 00:00:00.000  36  青年\n",
       "3  b4c77269 1964-02-05  0.0 2007-12-14 00:00:00.000  54  中年\n",
       "4  83a91070 1968-06-18  1.0 2004-05-01 16:50:13.950  50  中年\n",
       "5  34c2dc93 1986-07-18  0.0 2007-04-19 00:00:00.000  32  青年\n",
       "6  a2e649aa 1960-07-13  0.0 2007-12-01 00:00:00.000  58  中年\n",
       "7  54c044af 1982-06-22  0.0 2005-09-10 13:36:45.146  36  青年\n",
       "8  828aa9b4 1951-12-29  0.0 2004-09-24 16:39:08.716  67  老年\n",
       "9  2bde7c95 1978-04-16  0.0 2008-11-06 00:00:00.000  40  青年"
      ]
     },
     "execution_count": 7,
     "metadata": {},
     "output_type": "execute_result"
    }
   ],
   "source": [
    "member.head(10)"
   ]
  },
  {
   "cell_type": "code",
   "execution_count": 8,
   "metadata": {},
   "outputs": [],
   "source": [
    "age_dis = [np.sum(member['nld'] == '青年'),\n",
    "           np.sum(member['nld'] == '中年'),\n",
    "           np.sum(member['nld'] == '老年')]\n"
   ]
  },
  {
   "cell_type": "code",
   "execution_count": 9,
   "metadata": {},
   "outputs": [
    {
     "data": {
      "image/png": "[encoded data removed]",
      "text/plain": [
       "<Figure size 432x432 with 1 Axes>"
      ]
     },
     "metadata": {},
     "output_type": "display_data"
    }
   ],
   "source": [
    "plt.figure(figsize = (6,6))\n",
    "plt.pie(age_dis,labels = ['Youth','Middle Age','Old'],autopct = '%1.2f%%')\n",
    "plt.title('Member Age Distribution')\n",
    "plt.show()"
   ]
  },
  {
   "cell_type": "markdown",
   "metadata": {},
   "source": [
    "统计不同年龄段的消费金额"
   ]
  },
  {
   "cell_type": "code",
   "execution_count": 10,
   "metadata": {},
   "outputs": [
    {
     "name": "stderr",
     "output_type": "stream",
     "text": [
      "/usr/local/miniconda3/envs/dl/lib/python3.6/site-packages/IPython/core/interactiveshell.py:3020: DtypeWarning: Columns (0,11) have mixed types. Specify dtype option on import or set low_memory=False.\n",
      "  interactivity=interactivity, compiler=compiler, result=result)\n"
     ]
    }
   ],
   "source": [
    "# 读取预处理过的销售流水表数据\n",
    "order = pd.read_csv('temp/order_pre.csv')\n",
    "order['dtime'] = pd.to_datetime(order['dtime'])"
   ]
  },
  {
   "cell_type": "code",
   "execution_count": 11,
   "metadata": {},
   "outputs": [],
   "source": [
    "# 合并数据\n",
    "whole_1 = pd.merge(member, order, on = 'kh')\n"
   ]
  },
  {
   "cell_type": "code",
   "execution_count": 12,
   "metadata": {},
   "outputs": [],
   "source": [
    "# 获取不同年龄段消费金额之总\n",
    "period_pay = [\n",
    "    np.sum(whole_1[whole_1['nld'] == '青年']['je']),\n",
    "    np.sum(whole_1[whole_1['nld'] == '中年']['je']),\n",
    "    np.sum(whole_1[whole_1['nld'] == '老年']['je'])\n",
    "]\n"
   ]
  },
  {
   "cell_type": "code",
   "execution_count": 13,
   "metadata": {},
   "outputs": [
    {
     "data": {
      "text/plain": [
       "[204965907.95000002, 372865960.13, 15894786.110000001]"
      ]
     },
     "execution_count": 13,
     "metadata": {},
     "output_type": "execute_result"
    }
   ],
   "source": [
    "period_pay"
   ]
  },
  {
   "cell_type": "code",
   "execution_count": 14,
   "metadata": {},
   "outputs": [
    {
     "data": {
      "image/png": "[encoded data removed]",
      "text/plain": [
       "<Figure size 432x360 with 1 Axes>"
      ]
     },
     "metadata": {
      "needs_background": "light"
     },
     "output_type": "display_data"
    }
   ],
   "source": [
    "plt.figure(figsize = (6,5))\n",
    "plt.bar(range(3), period_pay, width = 0.5)\n",
    "plt.xlabel('age period')\n",
    "plt.ylabel('sum of payment')\n",
    "plt.xticks(range(3), ['youth','middle age','old'])\n",
    "plt.show()"
   ]
  },
  {
   "cell_type": "markdown",
   "metadata": {},
   "source": [
    "统计会员性别人数比例"
   ]
  },
  {
   "cell_type": "code",
   "execution_count": 15,
   "metadata": {},
   "outputs": [
    {
     "name": "stdout",
     "output_type": "stream",
     "text": [
      "男性： 29356  女性： 106955\n"
     ]
    }
   ],
   "source": [
    "male_num = len(member[member['xb'] == 1])\n",
    "female_num = len(member[member['xb'] == 0])\n",
    "print('男性：',male_num,' 女性：',female_num)"
   ]
  },
  {
   "cell_type": "code",
   "execution_count": 16,
   "metadata": {},
   "outputs": [
    {
     "data": {
      "image/png": "[encoded data removed]",
      "text/plain": [
       "<Figure size 432x432 with 1 Axes>"
      ]
     },
     "metadata": {},
     "output_type": "display_data"
    }
   ],
   "source": [
    "plt.figure(figsize = (6,6))\n",
    "label = ['male','female']\n",
    "plt.pie([male_num,female_num],labels = label,autopct = '%1.2f%%')\n",
    "plt.show()"
   ]
  },
  {
   "cell_type": "code",
   "execution_count": 17,
   "metadata": {},
   "outputs": [],
   "source": [
    "gender_pay = [\n",
    "    np.sum(whole_1[whole_1['xb'] == 1]['je']),\n",
    "    np.sum(whole_1[whole_1['xb'] == 0]['je'])\n",
    "]"
   ]
  },
  {
   "cell_type": "code",
   "execution_count": 18,
   "metadata": {},
   "outputs": [
    {
     "data": {
      "image/png": "[encoded data removed]",
      "text/plain": [
       "<Figure size 432x360 with 1 Axes>"
      ]
     },
     "metadata": {
      "needs_background": "light"
     },
     "output_type": "display_data"
    }
   ],
   "source": [
    "plt.figure(figsize = (6,5))\n",
    "plt.bar(range(2), gender_pay, width = 0.5)\n",
    "plt.xlabel('gender')\n",
    "plt.ylabel('sum of payment')\n",
    "plt.xticks(range(2), ['male','female'])\n",
    "plt.show()"
   ]
  },
  {
   "cell_type": "markdown",
   "metadata": {},
   "source": [
    "# 任务2.2"
   ]
  },
  {
   "cell_type": "markdown",
   "metadata": {},
   "source": [
    "## 任务2.2-（1）统计会员与非会员订单数"
   ]
  },
  {
   "cell_type": "code",
   "execution_count": 19,
   "metadata": {},
   "outputs": [
    {
     "name": "stdout",
     "output_type": "stream",
     "text": [
      "869012 997636\n"
     ]
    }
   ],
   "source": [
    "#卡号非空，会员\n",
    "member_ord = order[order.notnull()['kh']]\n",
    "member_num = len(member_ord)\n",
    "#卡号为空，非会员\n",
    "non_member_ord = order[order.isnull()['kh']]\n",
    "non_member_num = len(non_member_ord)\n",
    "\n",
    "print(member_num,non_member_num)"
   ]
  },
  {
   "cell_type": "code",
   "execution_count": 20,
   "metadata": {},
   "outputs": [
    {
     "data": {
      "image/png": "[encoded data removed]",
      "text/plain": [
       "<Figure size 432x432 with 1 Axes>"
      ]
     },
     "metadata": {},
     "output_type": "display_data"
    }
   ],
   "source": [
    "plt.figure(figsize = (6,6))\n",
    "plt.pie([member_num,non_member_num],labels=['member','non member'],autopct='%1.1f%%',)\n",
    "plt.show()"
   ]
  },
  {
   "cell_type": "markdown",
   "metadata": {},
   "source": [
    "## 任务2.2-（2）统计会员与非会员的销售金额"
   ]
  },
  {
   "cell_type": "code",
   "execution_count": 21,
   "metadata": {},
   "outputs": [],
   "source": [
    "member_cost = np.sum(member_ord['je'])\n",
    "non_member_cost = np.sum(non_member_ord['je'])"
   ]
  },
  {
   "cell_type": "code",
   "execution_count": 22,
   "metadata": {},
   "outputs": [
    {
     "data": {
      "text/plain": [
       "(1189567876.58, 842413549.7599998)"
      ]
     },
     "execution_count": 22,
     "metadata": {},
     "output_type": "execute_result"
    }
   ],
   "source": [
    "member_cost,non_member_cost"
   ]
  },
  {
   "cell_type": "code",
   "execution_count": 23,
   "metadata": {},
   "outputs": [
    {
     "data": {
      "image/png": "[encoded data removed]",
      "text/plain": [
       "<Figure size 432x432 with 1 Axes>"
      ]
     },
     "metadata": {},
     "output_type": "display_data"
    }
   ],
   "source": [
    "plt.figure(figsize = (6,6))\n",
    "plt.pie([member_cost,non_member_cost],labels=['member cost','non member cost'],autopct='%1.1f%%',)\n",
    "plt.show()"
   ]
  },
  {
   "cell_type": "markdown",
   "metadata": {},
   "source": [
    "## 任务2.2-（3）统计不同年份会员的消费金额"
   ]
  },
  {
   "cell_type": "code",
   "execution_count": 24,
   "metadata": {},
   "outputs": [],
   "source": [
    "#不同年份的会员消费金额\n",
    "year_order_cost_list = []\n",
    "for year in range(2015,2019):\n",
    "    #查询对应年份的订单\n",
    "    year_order = member_ord[member_ord['dtime'].apply(lambda x:x.year == year)]\n",
    "    #加总对应年份的订单金额\n",
    "    cost_sum = np.sum(year_order['je'])\n",
    "    year_order_cost_list.append(cost_sum)\n",
    "        "
   ]
  },
  {
   "cell_type": "code",
   "execution_count": 25,
   "metadata": {},
   "outputs": [
    {
     "data": {
      "text/plain": [
       "[304481820.90999997, 349256892.66, 528542015.83000004, 7287147.18]"
      ]
     },
     "execution_count": 25,
     "metadata": {},
     "output_type": "execute_result"
    }
   ],
   "source": [
    "year_order_cost_list"
   ]
  },
  {
   "cell_type": "code",
   "execution_count": 26,
   "metadata": {},
   "outputs": [
    {
     "data": {
      "image/png": "[encoded data removed]",
      "text/plain": [
       "<Figure size 432x432 with 1 Axes>"
      ]
     },
     "metadata": {},
     "output_type": "display_data"
    }
   ],
   "source": [
    "plt.figure(figsize = (6,6))\n",
    "plt.pie(year_order_cost_list,labels=['2015','2016','2017','2018'],autopct='%1.1f%%',)\n",
    "plt.show()"
   ]
  },
  {
   "cell_type": "markdown",
   "metadata": {},
   "source": [
    "## 任务2.2-（4）对不同年份按月份统计会员消费金额"
   ]
  },
  {
   "cell_type": "code",
   "execution_count": 27,
   "metadata": {},
   "outputs": [],
   "source": [
    "#按不同年份统计会员各月的消费金额\n",
    "month_cost_list = []\n",
    "\n",
    "for year in range(2015,2019):\n",
    "    year_order_list = []\n",
    "    for month in range(1,13):\n",
    "        month_order = member_ord[member_ord['dtime'].apply(lambda x:x.year == year and x.month == month)]\n",
    "        year_order_list.append(np.sum(month_order['je']))\n",
    "    month_cost_list.append(year_order_list)"
   ]
  },
  {
   "cell_type": "code",
   "execution_count": 28,
   "metadata": {},
   "outputs": [
    {
     "data": {
      "image/png": "[encoded data removed]",
      "text/plain": [
       "<Figure size 432x432 with 1 Axes>"
      ]
     },
     "metadata": {
      "needs_background": "light"
     },
     "output_type": "display_data"
    }
   ],
   "source": [
    "plt.figure(figsize = (6,6))\n",
    "plt.bar(range(1,13),month_cost_list[0],color = 'blue')\n",
    "plt.xlabel('month')\n",
    "plt.xticks(range(1,13))\n",
    "plt.ylabel('consume')\n",
    "plt.title('2015')\n",
    "plt.show()"
   ]
  },
  {
   "cell_type": "code",
   "execution_count": 29,
   "metadata": {},
   "outputs": [
    {
     "data": {
      "image/png": "[encoded data removed]",
      "text/plain": [
       "<Figure size 432x432 with 1 Axes>"
      ]
     },
     "metadata": {
      "needs_background": "light"
     },
     "output_type": "display_data"
    }
   ],
   "source": [
    "plt.figure(figsize = (6,6))\n",
    "plt.bar(range(1,13),month_cost_list[1],color = 'green')\n",
    "plt.xlabel('month')\n",
    "plt.xticks(range(1,13))\n",
    "plt.ylabel('consume')\n",
    "plt.title('2016')\n",
    "plt.show()"
   ]
  },
  {
   "cell_type": "code",
   "execution_count": 30,
   "metadata": {},
   "outputs": [
    {
     "data": {
      "image/png": "[encoded data removed]",
      "text/plain": [
       "<Figure size 432x432 with 1 Axes>"
      ]
     },
     "metadata": {
      "needs_background": "light"
     },
     "output_type": "display_data"
    }
   ],
   "source": [
    "plt.figure(figsize = (6,6))\n",
    "plt.bar(range(1,13),month_cost_list[2],color = 'red')\n",
    "plt.xlabel('month')\n",
    "plt.xticks(range(1,13))\n",
    "plt.ylabel('consume')\n",
    "plt.title('2017')\n",
    "plt.show()"
   ]
  },
  {
   "cell_type": "code",
   "execution_count": null,
   "metadata": {},
   "outputs": [],
   "source": []
  }
 ],
 "metadata": {
  "kernelspec": {
   "display_name": "Python 3",
   "language": "python",
   "name": "python3"
  },
  "language_info": {
   "codemirror_mode": {
    "name": "ipython",
    "version": 3
   },
   "file_extension": ".py",
   "mimetype": "text/x-python",
   "name": "python",
   "nbconvert_exporter": "python",
   "pygments_lexer": "ipython3",
   "version": "3.6.2"
  }
 },
 "nbformat": 4,
 "nbformat_minor": 2
}
